{
 "cells": [
  {
   "cell_type": "markdown",
   "metadata": {},
   "source": [
    "# INFORME EJECUTIVO\n",
    "\n",
    "**ADALAB** - Bootcamp Data Analytics - Proyecto Módulo 2 - Grupo 1 \n",
    "- Equipo Brave Analytics: Tatiana Naranjo, Almudena García, Guadalupe Calvo, Lara Iglesias."
   ]
  },
  {
   "cell_type": "markdown",
   "metadata": {},
   "source": [
    "## 1. Inicio: el equipo y el cliente\n",
    "- Historia = perspectiva de género\n",
    "- Hipótesis\n",
    "## 2. Estudio & visualización. Principales gráficas:\n",
    "- Demográfica\n",
    "- Experiencia laboral y herramientas ML\n",
    "- Empresa\n",
    "## 3. Conclusiones\n",
    "## 4.  Posibles siguientes pasos"
   ]
  },
  {
   "cell_type": "code",
   "execution_count": null,
   "metadata": {},
   "outputs": [],
   "source": []
  }
 ],
 "metadata": {
  "language_info": {
   "name": "python"
  },
  "orig_nbformat": 4
 },
 "nbformat": 4,
 "nbformat_minor": 2
}
