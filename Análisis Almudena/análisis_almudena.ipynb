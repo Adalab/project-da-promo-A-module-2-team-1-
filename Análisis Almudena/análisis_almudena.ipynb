{
 "cells": [
  {
   "cell_type": "code",
   "execution_count": 2,
   "metadata": {},
   "outputs": [],
   "source": [
    "import pandas as pd\n",
    "import numpy as np\n",
    "import os \n",
    "import re\n",
    "from scipy import stats"
   ]
  },
  {
   "cell_type": "code",
   "execution_count": 5,
   "metadata": {},
   "outputs": [
    {
     "data": {
      "text/html": [
       "<div>\n",
       "<style scoped>\n",
       "    .dataframe tbody tr th:only-of-type {\n",
       "        vertical-align: middle;\n",
       "    }\n",
       "\n",
       "    .dataframe tbody tr th {\n",
       "        vertical-align: top;\n",
       "    }\n",
       "\n",
       "    .dataframe thead th {\n",
       "        text-align: right;\n",
       "    }\n",
       "</style>\n",
       "<table border=\"1\" class=\"dataframe\">\n",
       "  <thead>\n",
       "    <tr style=\"text-align: right;\">\n",
       "      <th></th>\n",
       "      <th>survey_number</th>\n",
       "      <th>age</th>\n",
       "      <th>gender</th>\n",
       "      <th>country</th>\n",
       "      <th>education_level</th>\n",
       "      <th>programming_experience</th>\n",
       "      <th>programming_language</th>\n",
       "      <th>primary_bd_tool</th>\n",
       "      <th>years_ml</th>\n",
       "      <th>ml_frameworks</th>\n",
       "      <th>ml_algorithms</th>\n",
       "      <th>role</th>\n",
       "      <th>salary</th>\n",
       "      <th>industry</th>\n",
       "      <th>company size</th>\n",
       "      <th>people_in_data</th>\n",
       "      <th>gender_2</th>\n",
       "    </tr>\n",
       "  </thead>\n",
       "  <tbody>\n",
       "    <tr>\n",
       "      <th>0</th>\n",
       "      <td>910</td>\n",
       "      <td>50-54</td>\n",
       "      <td>Man</td>\n",
       "      <td>India</td>\n",
       "      <td>Bachelor’s degree</td>\n",
       "      <td>5-10 years</td>\n",
       "      <td>Python, R</td>\n",
       "      <td>Local development environments (RStudio, Jupyt...</td>\n",
       "      <td>5-10 years</td>\n",
       "      <td>Scikit-learn , TensorFlow ,Caret</td>\n",
       "      <td>Linear or Logistic Regression, Decision Trees ...</td>\n",
       "      <td>Other</td>\n",
       "      <td>25,000-29,999</td>\n",
       "      <td>Manufacturing/Fabrication</td>\n",
       "      <td>NaN</td>\n",
       "      <td>3-4</td>\n",
       "      <td>Man</td>\n",
       "    </tr>\n",
       "    <tr>\n",
       "      <th>1</th>\n",
       "      <td>784</td>\n",
       "      <td>50-54</td>\n",
       "      <td>Man</td>\n",
       "      <td>Indonesia</td>\n",
       "      <td>Master’s degree</td>\n",
       "      <td>20+ years</td>\n",
       "      <td>SQL, C, C++, Java</td>\n",
       "      <td>Advanced statistical software (SPSS, SAS, etc.)</td>\n",
       "      <td>&lt; 1 year</td>\n",
       "      <td>Scikit-learn</td>\n",
       "      <td>Linear or Logistic Regression, Decision Trees ...</td>\n",
       "      <td>Program/Project Manager</td>\n",
       "      <td>60,000-69,999</td>\n",
       "      <td>Manufacturing/Fabrication</td>\n",
       "      <td>NaN</td>\n",
       "      <td>1-2</td>\n",
       "      <td>Man</td>\n",
       "    </tr>\n",
       "    <tr>\n",
       "      <th>2</th>\n",
       "      <td>924</td>\n",
       "      <td>22-24</td>\n",
       "      <td>Man</td>\n",
       "      <td>Pakistan</td>\n",
       "      <td>Master’s degree</td>\n",
       "      <td>1-3 years</td>\n",
       "      <td>Python, C++, Java</td>\n",
       "      <td>Basic statistical software (Microsoft Excel, G...</td>\n",
       "      <td>I do not use machine learning methods</td>\n",
       "      <td>NaN</td>\n",
       "      <td>NaN</td>\n",
       "      <td>Software Engineer</td>\n",
       "      <td>$0-999</td>\n",
       "      <td>Academics/Education</td>\n",
       "      <td>NaN</td>\n",
       "      <td>0</td>\n",
       "      <td>Man</td>\n",
       "    </tr>\n",
       "    <tr>\n",
       "      <th>3</th>\n",
       "      <td>575</td>\n",
       "      <td>45-49</td>\n",
       "      <td>Man</td>\n",
       "      <td>Mexico</td>\n",
       "      <td>Doctoral degree</td>\n",
       "      <td>20+ years</td>\n",
       "      <td>Python</td>\n",
       "      <td>Local development environments (RStudio, Jupyt...</td>\n",
       "      <td>5-10 years</td>\n",
       "      <td>Scikit-learn , TensorFlow ,Keras</td>\n",
       "      <td>Dense Neural Networks (MLPs, etc), Convolutio...</td>\n",
       "      <td>Research Scientist</td>\n",
       "      <td>30,000-39,999</td>\n",
       "      <td>Academics/Education</td>\n",
       "      <td>NaN</td>\n",
       "      <td>0</td>\n",
       "      <td>Man</td>\n",
       "    </tr>\n",
       "    <tr>\n",
       "      <th>4</th>\n",
       "      <td>781</td>\n",
       "      <td>45-49</td>\n",
       "      <td>Man</td>\n",
       "      <td>India</td>\n",
       "      <td>Doctoral degree</td>\n",
       "      <td>&lt; 1 years</td>\n",
       "      <td>Python, C, MATLAB</td>\n",
       "      <td>Local development environments (RStudio, Jupyt...</td>\n",
       "      <td>10-20 years</td>\n",
       "      <td>Scikit-learn ,PyTorch ,LightGBM</td>\n",
       "      <td>Linear or Logistic Regression, Decision Trees ...</td>\n",
       "      <td>Other</td>\n",
       "      <td>30,000-39,999</td>\n",
       "      <td>Academics/Education</td>\n",
       "      <td>NaN</td>\n",
       "      <td>5-9</td>\n",
       "      <td>Man</td>\n",
       "    </tr>\n",
       "  </tbody>\n",
       "</table>\n",
       "</div>"
      ],
      "text/plain": [
       "   survey_number    age gender    country    education_level  \\\n",
       "0            910  50-54    Man      India  Bachelor’s degree   \n",
       "1            784  50-54    Man  Indonesia    Master’s degree   \n",
       "2            924  22-24    Man   Pakistan    Master’s degree   \n",
       "3            575  45-49    Man     Mexico    Doctoral degree   \n",
       "4            781  45-49    Man      India    Doctoral degree   \n",
       "\n",
       "  programming_experience programming_language  \\\n",
       "0             5-10 years            Python, R   \n",
       "1              20+ years    SQL, C, C++, Java   \n",
       "2              1-3 years    Python, C++, Java   \n",
       "3              20+ years               Python   \n",
       "4              < 1 years    Python, C, MATLAB   \n",
       "\n",
       "                                     primary_bd_tool  \\\n",
       "0  Local development environments (RStudio, Jupyt...   \n",
       "1    Advanced statistical software (SPSS, SAS, etc.)   \n",
       "2  Basic statistical software (Microsoft Excel, G...   \n",
       "3  Local development environments (RStudio, Jupyt...   \n",
       "4  Local development environments (RStudio, Jupyt...   \n",
       "\n",
       "                                years_ml                      ml_frameworks  \\\n",
       "0                             5-10 years  Scikit-learn , TensorFlow ,Caret    \n",
       "1                               < 1 year                      Scikit-learn    \n",
       "2  I do not use machine learning methods                                NaN   \n",
       "3                             5-10 years  Scikit-learn , TensorFlow ,Keras    \n",
       "4                            10-20 years   Scikit-learn ,PyTorch ,LightGBM    \n",
       "\n",
       "                                       ml_algorithms                     role  \\\n",
       "0  Linear or Logistic Regression, Decision Trees ...                    Other   \n",
       "1  Linear or Logistic Regression, Decision Trees ...  Program/Project Manager   \n",
       "2                                                NaN        Software Engineer   \n",
       "3   Dense Neural Networks (MLPs, etc), Convolutio...       Research Scientist   \n",
       "4  Linear or Logistic Regression, Decision Trees ...                    Other   \n",
       "\n",
       "          salary                   industry  company size people_in_data  \\\n",
       "0  25,000-29,999  Manufacturing/Fabrication           NaN            3-4   \n",
       "1  60,000-69,999  Manufacturing/Fabrication           NaN            1-2   \n",
       "2         $0-999        Academics/Education           NaN              0   \n",
       "3  30,000-39,999        Academics/Education           NaN              0   \n",
       "4  30,000-39,999        Academics/Education           NaN            5-9   \n",
       "\n",
       "  gender_2  \n",
       "0      Man  \n",
       "1      Man  \n",
       "2      Man  \n",
       "3      Man  \n",
       "4      Man  "
      ]
     },
     "execution_count": 5,
     "metadata": {},
     "output_type": "execute_result"
    }
   ],
   "source": [
    "df = pd.read_csv(\"preparadito.csv\", index_col=0)\n",
    "df.head()"
   ]
  },
  {
   "cell_type": "markdown",
   "metadata": {},
   "source": [
    "Hago una copia del df original para utilizar las columnas que me interesan: survey_number, age, gender, country, education_level. Elimino el resto de columnas para que no me molesten al hacer el análisis."
   ]
  },
  {
   "cell_type": "code",
   "execution_count": 6,
   "metadata": {},
   "outputs": [],
   "source": [
    "df_almu = df.copy()"
   ]
  },
  {
   "cell_type": "code",
   "execution_count": 8,
   "metadata": {},
   "outputs": [
    {
     "data": {
      "text/plain": [
       "Index(['survey_number', 'age', 'gender', 'country', 'education_level',\n",
       "       'programming_experience', 'programming_language', 'primary_bd_tool',\n",
       "       'years_ml', 'ml_frameworks', 'ml_algorithms', 'role', 'salary',\n",
       "       'industry', 'company size', 'people_in_data', 'gender_2'],\n",
       "      dtype='object')"
      ]
     },
     "execution_count": 8,
     "metadata": {},
     "output_type": "execute_result"
    }
   ],
   "source": [
    "df_almu.columns"
   ]
  },
  {
   "cell_type": "code",
   "execution_count": 16,
   "metadata": {},
   "outputs": [],
   "source": [
    "df_almu = df_almu.drop(['programming_language', 'programming_experience', 'primary_bd_tool',\n",
    "       'years_ml', 'ml_frameworks', 'ml_algorithms', 'role', 'salary',\n",
    "       'industry', 'company size', 'people_in_data',], axis = 1)"
   ]
  },
  {
   "cell_type": "markdown",
   "metadata": {},
   "source": [
    "A partir de aquí, hago un análisis previo de las columnas: forma, tipo de columna, qué datos tiene."
   ]
  },
  {
   "cell_type": "code",
   "execution_count": 18,
   "metadata": {},
   "outputs": [
    {
     "data": {
      "text/html": [
       "<div>\n",
       "<style scoped>\n",
       "    .dataframe tbody tr th:only-of-type {\n",
       "        vertical-align: middle;\n",
       "    }\n",
       "\n",
       "    .dataframe tbody tr th {\n",
       "        vertical-align: top;\n",
       "    }\n",
       "\n",
       "    .dataframe thead th {\n",
       "        text-align: right;\n",
       "    }\n",
       "</style>\n",
       "<table border=\"1\" class=\"dataframe\">\n",
       "  <thead>\n",
       "    <tr style=\"text-align: right;\">\n",
       "      <th></th>\n",
       "      <th>survey_number</th>\n",
       "      <th>age</th>\n",
       "      <th>gender</th>\n",
       "      <th>country</th>\n",
       "      <th>education_level</th>\n",
       "      <th>gender_2</th>\n",
       "    </tr>\n",
       "  </thead>\n",
       "  <tbody>\n",
       "    <tr>\n",
       "      <th>415</th>\n",
       "      <td>601</td>\n",
       "      <td>45-49</td>\n",
       "      <td>Woman</td>\n",
       "      <td>United States of America</td>\n",
       "      <td>Professional doctorate</td>\n",
       "      <td>Woman</td>\n",
       "    </tr>\n",
       "    <tr>\n",
       "      <th>24870</th>\n",
       "      <td>414</td>\n",
       "      <td>22-24</td>\n",
       "      <td>Man</td>\n",
       "      <td>Germany</td>\n",
       "      <td>Bachelor’s degree</td>\n",
       "      <td>Man</td>\n",
       "    </tr>\n",
       "    <tr>\n",
       "      <th>19159</th>\n",
       "      <td>545</td>\n",
       "      <td>45-49</td>\n",
       "      <td>Man</td>\n",
       "      <td>Other</td>\n",
       "      <td>Master’s degree</td>\n",
       "      <td>Man</td>\n",
       "    </tr>\n",
       "  </tbody>\n",
       "</table>\n",
       "</div>"
      ],
      "text/plain": [
       "       survey_number    age gender                   country  \\\n",
       "415              601  45-49  Woman  United States of America   \n",
       "24870            414  22-24    Man                   Germany   \n",
       "19159            545  45-49    Man                     Other   \n",
       "\n",
       "              education_level gender_2  \n",
       "415    Professional doctorate    Woman  \n",
       "24870       Bachelor’s degree      Man  \n",
       "19159         Master’s degree      Man  "
      ]
     },
     "execution_count": 18,
     "metadata": {},
     "output_type": "execute_result"
    }
   ],
   "source": [
    "df_almu.sample(3)"
   ]
  },
  {
   "cell_type": "code",
   "execution_count": 17,
   "metadata": {},
   "outputs": [
    {
     "data": {
      "text/plain": [
       "Index(['survey_number', 'age', 'gender', 'country', 'education_level',\n",
       "       'gender_2'],\n",
       "      dtype='object')"
      ]
     },
     "execution_count": 17,
     "metadata": {},
     "output_type": "execute_result"
    }
   ],
   "source": [
    "df_almu.columns"
   ]
  },
  {
   "cell_type": "code",
   "execution_count": 21,
   "metadata": {},
   "outputs": [
    {
     "name": "stdout",
     "output_type": "stream",
     "text": [
      "object\n",
      "object\n",
      "object\n",
      "object\n",
      "object\n",
      "int64\n"
     ]
    }
   ],
   "source": [
    "print(df_almu['country'].dtype)\n",
    "print(df_almu['age'].dtype)\n",
    "print(df_almu['gender'].dtype)\n",
    "print(df_almu['education_level'].dtype)\n",
    "print(df_almu['gender_2'].dtype)\n",
    "print(df_almu['survey_number'].dtype)"
   ]
  },
  {
   "cell_type": "markdown",
   "metadata": {},
   "source": [
    "Todas las columnas son de tipo object salvo survey_number. El siguiente paso es comprobar cuántos nulos hay por columna."
   ]
  },
  {
   "cell_type": "code",
   "execution_count": 22,
   "metadata": {},
   "outputs": [
    {
     "data": {
      "text/plain": [
       "survey_number      0\n",
       "age                0\n",
       "gender             0\n",
       "country            0\n",
       "education_level    0\n",
       "gender_2           0\n",
       "dtype: int64"
      ]
     },
     "execution_count": 22,
     "metadata": {},
     "output_type": "execute_result"
    }
   ],
   "source": [
    "df_almu.isna().sum()        #Al parecer no hay nulos en ninguna de las columnas."
   ]
  },
  {
   "cell_type": "code",
   "execution_count": 23,
   "metadata": {},
   "outputs": [
    {
     "data": {
      "text/plain": [
       "array(['50-54', '22-24', '45-49', '25-29', '18-21', '30-34', '40-44',\n",
       "       '35-39', '70+', '55-59', '60-69'], dtype=object)"
      ]
     },
     "execution_count": 23,
     "metadata": {},
     "output_type": "execute_result"
    }
   ],
   "source": [
    "df_almu['age'].unique()         #La columna age está dividida por grupos de edad. Es de tipo string por el guión que los une."
   ]
  },
  {
   "cell_type": "code",
   "execution_count": 33,
   "metadata": {},
   "outputs": [
    {
     "data": {
      "text/plain": [
       "25-29    4931\n",
       "18-21    4901\n",
       "22-24    4694\n",
       "30-34    3441\n",
       "35-39    2504\n",
       "40-44    1890\n",
       "45-49    1375\n",
       "50-54     964\n",
       "55-59     592\n",
       "60-69     553\n",
       "70+       128\n",
       "Name: age, dtype: int64"
      ]
     },
     "execution_count": 33,
     "metadata": {},
     "output_type": "execute_result"
    }
   ],
   "source": [
    "df[\"age\"].value_counts()"
   ]
  },
  {
   "cell_type": "code",
   "execution_count": 26,
   "metadata": {},
   "outputs": [
    {
     "data": {
      "text/plain": [
       "array(['India', 'Indonesia', 'Pakistan', 'Mexico', 'Russia', 'Turkey',\n",
       "       'Australia', 'Nigeria', 'Greece', 'Belgium', 'Japan', 'Egypt',\n",
       "       'Singapore', 'Brazil', 'Poland', 'China',\n",
       "       'Iran, Islamic Republic of...', 'United States of America',\n",
       "       'Italy', 'Viet Nam', 'Israel', 'Peru', 'South Africa', 'Other',\n",
       "       'Spain', 'Bangladesh',\n",
       "       'United Kingdom of Great Britain and Northern Ireland', 'France',\n",
       "       'Switzerland', 'Algeria', 'Tunisia', 'Argentina', 'Sweden',\n",
       "       'Colombia', 'I do not wish to disclose my location', 'Canada',\n",
       "       'Chile', 'Netherlands', 'Ukraine', 'Saudi Arabia', 'Romania',\n",
       "       'Morocco', 'Austria', 'Taiwan', 'Kenya', 'Belarus', 'Ireland',\n",
       "       'Portugal', 'Hong Kong (S.A.R.)', 'Denmark', 'Germany',\n",
       "       'South Korea', 'Philippines', 'Sri Lanka', 'United Arab Emirates',\n",
       "       'Uganda', 'Ghana', 'Malaysia', 'Thailand', 'Nepal', 'Kazakhstan',\n",
       "       'Ethiopia', 'Iraq', 'Ecuador', 'Norway', 'Czech Republic'],\n",
       "      dtype=object)"
      ]
     },
     "execution_count": 26,
     "metadata": {},
     "output_type": "execute_result"
    }
   ],
   "source": [
    "df_almu['country'].unique()"
   ]
  },
  {
   "cell_type": "markdown",
   "metadata": {},
   "source": [
    "Quizás podría ser interesante hacer un análisis por continente (teniendo en cuenta que hay algunos que tienen más respuestas que otros). Asimismo, podría ser interesante unir la celda \"others\" con \"I do not wish to disclose my location\". A nivel de estudio de datos son lo mismo. Para ello, creamos una nueva columna llamada \"country_2\" en la que todos aparezcan por su nombre salvo estas dos excepciones. "
   ]
  },
  {
   "cell_type": "code",
   "execution_count": 27,
   "metadata": {},
   "outputs": [],
   "source": [
    "def funcion (columna):\n",
    "    if columna == 'Other':\n",
    "        return \"Unspecified\"\n",
    "    elif columna == 'I do not wish to disclose my location':\n",
    "        return \"Unspecified\"\n",
    "    elif columna == 'Viet Nam':\n",
    "        return 'Vietnam'\n",
    "    else: \n",
    "        return columna"
   ]
  },
  {
   "cell_type": "code",
   "execution_count": 28,
   "metadata": {},
   "outputs": [],
   "source": [
    "df[\"country_2\"] = df[\"country\"].apply(funcion)"
   ]
  },
  {
   "cell_type": "code",
   "execution_count": 29,
   "metadata": {},
   "outputs": [
    {
     "data": {
      "text/plain": [
       "array(['India', 'Indonesia', 'Pakistan', 'Mexico', 'Russia', 'Turkey',\n",
       "       'Australia', 'Nigeria', 'Greece', 'Belgium', 'Japan', 'Egypt',\n",
       "       'Singapore', 'Brazil', 'Poland', 'China',\n",
       "       'Iran, Islamic Republic of...', 'United States of America',\n",
       "       'Italy', 'Vietnam', 'Israel', 'Peru', 'South Africa',\n",
       "       'Unspecified', 'Spain', 'Bangladesh',\n",
       "       'United Kingdom of Great Britain and Northern Ireland', 'France',\n",
       "       'Switzerland', 'Algeria', 'Tunisia', 'Argentina', 'Sweden',\n",
       "       'Colombia', 'Canada', 'Chile', 'Netherlands', 'Ukraine',\n",
       "       'Saudi Arabia', 'Romania', 'Morocco', 'Austria', 'Taiwan', 'Kenya',\n",
       "       'Belarus', 'Ireland', 'Portugal', 'Hong Kong (S.A.R.)', 'Denmark',\n",
       "       'Germany', 'South Korea', 'Philippines', 'Sri Lanka',\n",
       "       'United Arab Emirates', 'Uganda', 'Ghana', 'Malaysia', 'Thailand',\n",
       "       'Nepal', 'Kazakhstan', 'Ethiopia', 'Iraq', 'Ecuador', 'Norway',\n",
       "       'Czech Republic'], dtype=object)"
      ]
     },
     "execution_count": 29,
     "metadata": {},
     "output_type": "execute_result"
    }
   ],
   "source": [
    "df[\"country_2\"].unique()"
   ]
  },
  {
   "cell_type": "code",
   "execution_count": 30,
   "metadata": {},
   "outputs": [
    {
     "data": {
      "text/plain": [
       "array(['Bachelor’s degree', 'Master’s degree', 'Doctoral degree',\n",
       "       'I prefer not to answer',\n",
       "       'Some college/university study without earning a bachelor’s degree',\n",
       "       'No formal education past high school', 'Professional doctorate'],\n",
       "      dtype=object)"
      ]
     },
     "execution_count": 30,
     "metadata": {},
     "output_type": "execute_result"
    }
   ],
   "source": [
    "df[\"education_level\"].unique()"
   ]
  },
  {
   "cell_type": "code",
   "execution_count": 32,
   "metadata": {},
   "outputs": [
    {
     "data": {
      "text/plain": [
       "India                       7434\n",
       "United States of America    2650\n",
       "Unspecified                 1339\n",
       "Japan                        921\n",
       "China                        814\n",
       "                            ... \n",
       "Kazakhstan                    45\n",
       "Norway                        45\n",
       "Algeria                       44\n",
       "Ethiopia                      43\n",
       "Iraq                          43\n",
       "Name: country_2, Length: 65, dtype: int64"
      ]
     },
     "execution_count": 32,
     "metadata": {},
     "output_type": "execute_result"
    }
   ],
   "source": [
    "df[\"country_2\"].value_counts()"
   ]
  },
  {
   "cell_type": "code",
   "execution_count": 31,
   "metadata": {},
   "outputs": [
    {
     "data": {
      "text/plain": [
       "Master’s degree                                                      10132\n",
       "Bachelor’s degree                                                     9907\n",
       "Doctoral degree                                                       2795\n",
       "Some college/university study without earning a bachelor’s degree     1735\n",
       "I prefer not to answer                                                 627\n",
       "No formal education past high school                                   417\n",
       "Professional doctorate                                                 360\n",
       "Name: education_level, dtype: int64"
      ]
     },
     "execution_count": 31,
     "metadata": {},
     "output_type": "execute_result"
    }
   ],
   "source": [
    "df[\"education_level\"].value_counts()"
   ]
  }
 ],
 "metadata": {
  "interpreter": {
   "hash": "9df72549cec875d35faaa50875d444b10c11452b268975a17c9dc6870f43870f"
  },
  "kernelspec": {
   "display_name": "Python 3.9.7 ('base')",
   "language": "python",
   "name": "python3"
  },
  "language_info": {
   "codemirror_mode": {
    "name": "ipython",
    "version": 3
   },
   "file_extension": ".py",
   "mimetype": "text/x-python",
   "name": "python",
   "nbconvert_exporter": "python",
   "pygments_lexer": "ipython3",
   "version": "3.9.7"
  },
  "orig_nbformat": 4
 },
 "nbformat": 4,
 "nbformat_minor": 2
}
