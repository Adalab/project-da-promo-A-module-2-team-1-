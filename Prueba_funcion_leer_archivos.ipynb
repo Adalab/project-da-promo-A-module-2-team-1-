{
 "cells": [
  {
   "cell_type": "code",
   "execution_count": 1,
   "metadata": {},
   "outputs": [
    {
     "data": {
      "text/plain": [
       "'/mnt/d/Descargas/Python/Modulo 2/Proyecto_2/project-da-promo-A-module-2-team-1-'"
      ]
     },
     "execution_count": 1,
     "metadata": {},
     "output_type": "execute_result"
    }
   ],
   "source": [
    "import pandas as pd\n",
    "import numpy as np\n",
    "import os \n",
    "import re\n",
    "import xml.etree.ElementTree as ET\n",
    "\n",
    "os.getcwd()"
   ]
  },
  {
   "cell_type": "code",
   "execution_count": 2,
   "metadata": {},
   "outputs": [],
   "source": [
    "# Esta es nuestra función para leer el archivo \n",
    "def reader():\n",
    "    #si existe la carpeta de input, entra ahí\n",
    "    if './input' in os.listdir():\n",
    "        os.chdir()\n",
    "    for file in os.listdir(list_dir):\n",
    "        if file.endswith('.csv'): \n",
    "            df = pd.read_csv(file) \n",
    "            print(df.head(5)) \n",
    "        elif file.endswith('.txt'):\n",
    "            df = pd.read_csv(file, sep = ';') \n",
    "            print(df.head(5))\n",
    "        elif file.endswith('.json'):\n",
    "            df = pd.read_json(file)\n",
    "            print(df.head(5))\n",
    "        elif file.endswith('.xml'):\n",
    "            df = pd.read_xml(file) \n",
    "            print(df.head(5)) \n",
    "        elif file.endswith('.xls'): \n",
    "            df = pd.read_excel(file) \n",
    "            print(df.head(5)) \n",
    "        elif file.endswith('.xlsx'): \n",
    "            df = pd.read_excel(file) \n",
    "            print(df.head(5))\n",
    "        else: \n",
    "            print(\"File format not supported\")\n",
    "        \n",
    "    return df\n",
    "\n",
    "\n",
    "list_dir = os.listdir()\n"
   ]
  },
  {
   "cell_type": "code",
   "execution_count": null,
   "metadata": {},
   "outputs": [],
   "source": [
    "reader(list_dir)"
   ]
  },
  {
   "cell_type": "code",
   "execution_count": null,
   "metadata": {},
   "outputs": [
    {
     "data": {
      "text/plain": [
       "['.DS_Store',\n",
       " 'input',\n",
       " 'prueba.csv',\n",
       " 'Prueba_funcion_leer_archivos.ipynb',\n",
       " 'README.md',\n",
       " 'prueba2.ipynb',\n",
       " 'survey_answer_choices.pdf',\n",
       " '.git',\n",
       " 'prueba']"
      ]
     },
     "execution_count": 28,
     "metadata": {},
     "output_type": "execute_result"
    }
   ],
   "source": []
  },
  {
   "cell_type": "code",
   "execution_count": null,
   "metadata": {},
   "outputs": [],
   "source": [
    "# Esta es nuestra función que guarda en .csv\n",
    "df = reader(file)\n",
    "\n",
    "def save(df):\n",
    "    for file in range(len(os.listdir())): #hay que cambiarlo; dos argumentos\n",
    "        if df_csv not in os.listdir():\n",
    "            df_csv = df.to_csv('prueba.csv')                                                          \n",
    "        else:\n",
    "            i = 1\n",
    "            df_csv = df.to_csv('prueba', i, '.csv')\n",
    "            i = i + 1   \n",
    "    print('El archivo ha sido creado con el nombre:', df_csv)\n",
    "\n",
    "\n",
    "save('prueba.csv')"
   ]
  },
  {
   "cell_type": "markdown",
   "metadata": {},
   "source": [
    "**Lo nuevo usado para la fusión de DataFrame**"
   ]
  },
  {
   "cell_type": "code",
   "execution_count": 5,
   "metadata": {},
   "outputs": [],
   "source": [
    "df_txt = pd.read_csv(\"data_txt_clean.txt\", sep = ';') \n",
    "df_csv = pd.read_csv(\"data.csv\",index_col = 0)\n",
    "df_xml = open('data_xml_clean.xml', 'r').read()\n",
    "root = ET.XML(df_xml)  # Parse XML\n",
    "\n",
    "data = []\n",
    "cols = []\n",
    "for i, child in enumerate(root):\n",
    "    data.append([subchild.text for subchild in child])\n",
    "    cols.append(child.tag)\n",
    "\n",
    "df_xml = pd.DataFrame(data)\n",
    "\n"
   ]
  },
  {
   "cell_type": "code",
   "execution_count": null,
   "metadata": {},
   "outputs": [],
   "source": [
    "def propiedades (df):\n",
    "    a = (\"El número de filas y columnas es: \", df.shape) \n",
    "    b = (\"Las columnas son: \", df.columns)\n",
    "    c = (\"El tipo de datos es: \", df.dtypes)\n",
    "    d = (\"Cantidad de nulos: \",df.isna().sum()) \n",
    "    e = (\"Descripción general: \", df.describe(include = \"object\").T)\n",
    "    f = (\"Las primeras filas son: \", df.head())\n",
    "    \n",
    "    print(a, \"\\n\", b, \"\\n\", c, \"\\n\", d, \"\\n\", e,  \"\\n\", f,)\n",
    "    \n",
    "propiedades(df_txt)"
   ]
  },
  {
   "cell_type": "code",
   "execution_count": 7,
   "metadata": {},
   "outputs": [],
   "source": [
    "df_juntos = pd.concat([df_txt, df_csv], axis=0, ignore_index = True)\n",
    "df_juntitos = pd.concat([df_juntos, df_xml], axis=0, ignore_index = True)"
   ]
  },
  {
   "cell_type": "code",
   "execution_count": 8,
   "metadata": {},
   "outputs": [],
   "source": [
    "df_juntitos.to_csv(\"csv_junto_sucio.csv\")"
   ]
  }
 ],
 "metadata": {
  "interpreter": {
   "hash": "a7767d930544d914483bb7fc45a359b90234f0fc056fbb3956e60e9a90a88fdd"
  },
  "kernelspec": {
   "display_name": "Python 3.9.7 ('base')",
   "language": "python",
   "name": "python3"
  },
  "language_info": {
   "codemirror_mode": {
    "name": "ipython",
    "version": 3
   },
   "file_extension": ".py",
   "mimetype": "text/x-python",
   "name": "python",
   "nbconvert_exporter": "python",
   "pygments_lexer": "ipython3",
   "version": "3.9.7"
  },
  "orig_nbformat": 4
 },
 "nbformat": 4,
 "nbformat_minor": 2
}
