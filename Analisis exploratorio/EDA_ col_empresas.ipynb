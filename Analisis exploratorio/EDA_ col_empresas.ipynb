{
 "cells": [
  {
   "cell_type": "markdown",
   "metadata": {},
   "source": [
    "# Analisis Exploratorio\n",
    "    COLUMNAS\n",
    "    -'role'\n",
    "    -'salary'\n",
    "    -'industry'\n",
    "    -'company size'\n",
    "    -'people_in_data'"
   ]
  },
  {
   "cell_type": "code",
   "execution_count": 78,
   "metadata": {},
   "outputs": [],
   "source": [
    "import pandas as pd\n",
    "import numpy as np\n",
    "import seaborn as sns\n",
    "import matplotlib.pyplot as plt\n",
    "import sidetable as stb\n",
    "from sklearn.preprocessing import OneHotEncoder\n",
    "import re \n",
    "import warnings"
   ]
  },
  {
   "cell_type": "code",
   "execution_count": 51,
   "metadata": {},
   "outputs": [],
   "source": [
    "df = pd.read_csv(\"/mnt/c/Users/USUARIO/Desktop/Adalab/project-da-promo-A-module-2-team-1-/Limpieza de documentos/preparadito.csv\", index_col= 0)"
   ]
  },
  {
   "cell_type": "markdown",
   "metadata": {},
   "source": [
    "verificamos que los index esten bien. "
   ]
  },
  {
   "cell_type": "code",
   "execution_count": 52,
   "metadata": {},
   "outputs": [
    {
     "data": {
      "text/html": [
       "<div>\n",
       "<style scoped>\n",
       "    .dataframe tbody tr th:only-of-type {\n",
       "        vertical-align: middle;\n",
       "    }\n",
       "\n",
       "    .dataframe tbody tr th {\n",
       "        vertical-align: top;\n",
       "    }\n",
       "\n",
       "    .dataframe thead th {\n",
       "        text-align: right;\n",
       "    }\n",
       "</style>\n",
       "<table border=\"1\" class=\"dataframe\">\n",
       "  <thead>\n",
       "    <tr style=\"text-align: right;\">\n",
       "      <th></th>\n",
       "      <th>survey_number</th>\n",
       "      <th>age</th>\n",
       "      <th>gender</th>\n",
       "      <th>country</th>\n",
       "      <th>education_level</th>\n",
       "      <th>programming_experience</th>\n",
       "      <th>programming_language</th>\n",
       "      <th>primary_bd_tool</th>\n",
       "      <th>years_ml</th>\n",
       "      <th>ml_frameworks</th>\n",
       "      <th>ml_algorithms</th>\n",
       "      <th>role</th>\n",
       "      <th>salary</th>\n",
       "      <th>industry</th>\n",
       "      <th>company_size</th>\n",
       "      <th>people_in_data</th>\n",
       "      <th>gender_2</th>\n",
       "    </tr>\n",
       "  </thead>\n",
       "  <tbody>\n",
       "    <tr>\n",
       "      <th>0</th>\n",
       "      <td>910</td>\n",
       "      <td>50-54</td>\n",
       "      <td>Man</td>\n",
       "      <td>India</td>\n",
       "      <td>Bachelor’s degree</td>\n",
       "      <td>5-10 years</td>\n",
       "      <td>Python, R</td>\n",
       "      <td>Local development environments (RStudio, Jupyt...</td>\n",
       "      <td>5-10 years</td>\n",
       "      <td>Scikit-learn , TensorFlow ,Caret</td>\n",
       "      <td>Linear or Logistic Regression, Decision Trees ...</td>\n",
       "      <td>Other</td>\n",
       "      <td>25,000-29,999</td>\n",
       "      <td>Manufacturing/Fabrication</td>\n",
       "      <td>50-249 employees</td>\n",
       "      <td>3-4</td>\n",
       "      <td>Man</td>\n",
       "    </tr>\n",
       "    <tr>\n",
       "      <th>1</th>\n",
       "      <td>784</td>\n",
       "      <td>50-54</td>\n",
       "      <td>Man</td>\n",
       "      <td>Indonesia</td>\n",
       "      <td>Master’s degree</td>\n",
       "      <td>20+ years</td>\n",
       "      <td>SQL, C, C++, Java</td>\n",
       "      <td>Advanced statistical software (SPSS, SAS, etc.)</td>\n",
       "      <td>&lt; 1 year</td>\n",
       "      <td>Scikit-learn</td>\n",
       "      <td>Linear or Logistic Regression, Decision Trees ...</td>\n",
       "      <td>Program/Project Manager</td>\n",
       "      <td>60,000-69,999</td>\n",
       "      <td>Manufacturing/Fabrication</td>\n",
       "      <td>1000-9,999 employees</td>\n",
       "      <td>1-2</td>\n",
       "      <td>Man</td>\n",
       "    </tr>\n",
       "    <tr>\n",
       "      <th>2</th>\n",
       "      <td>924</td>\n",
       "      <td>22-24</td>\n",
       "      <td>Man</td>\n",
       "      <td>Pakistan</td>\n",
       "      <td>Master’s degree</td>\n",
       "      <td>1-3 years</td>\n",
       "      <td>Python, C++, Java</td>\n",
       "      <td>Basic statistical software (Microsoft Excel, G...</td>\n",
       "      <td>I do not use machine learning methods</td>\n",
       "      <td>NaN</td>\n",
       "      <td>NaN</td>\n",
       "      <td>Software Engineer</td>\n",
       "      <td>$0-999</td>\n",
       "      <td>Academics/Education</td>\n",
       "      <td>1000-9,999 employees</td>\n",
       "      <td>0</td>\n",
       "      <td>Man</td>\n",
       "    </tr>\n",
       "  </tbody>\n",
       "</table>\n",
       "</div>"
      ],
      "text/plain": [
       "   survey_number    age gender    country    education_level  \\\n",
       "0            910  50-54    Man      India  Bachelor’s degree   \n",
       "1            784  50-54    Man  Indonesia    Master’s degree   \n",
       "2            924  22-24    Man   Pakistan    Master’s degree   \n",
       "\n",
       "  programming_experience programming_language  \\\n",
       "0             5-10 years            Python, R   \n",
       "1              20+ years    SQL, C, C++, Java   \n",
       "2              1-3 years    Python, C++, Java   \n",
       "\n",
       "                                     primary_bd_tool  \\\n",
       "0  Local development environments (RStudio, Jupyt...   \n",
       "1    Advanced statistical software (SPSS, SAS, etc.)   \n",
       "2  Basic statistical software (Microsoft Excel, G...   \n",
       "\n",
       "                                years_ml                      ml_frameworks  \\\n",
       "0                             5-10 years  Scikit-learn , TensorFlow ,Caret    \n",
       "1                               < 1 year                      Scikit-learn    \n",
       "2  I do not use machine learning methods                                NaN   \n",
       "\n",
       "                                       ml_algorithms                     role  \\\n",
       "0  Linear or Logistic Regression, Decision Trees ...                    Other   \n",
       "1  Linear or Logistic Regression, Decision Trees ...  Program/Project Manager   \n",
       "2                                                NaN        Software Engineer   \n",
       "\n",
       "          salary                   industry          company_size  \\\n",
       "0  25,000-29,999  Manufacturing/Fabrication      50-249 employees   \n",
       "1  60,000-69,999  Manufacturing/Fabrication  1000-9,999 employees   \n",
       "2         $0-999        Academics/Education  1000-9,999 employees   \n",
       "\n",
       "  people_in_data gender_2  \n",
       "0            3-4      Man  \n",
       "1            1-2      Man  \n",
       "2              0      Man  "
      ]
     },
     "execution_count": 52,
     "metadata": {},
     "output_type": "execute_result"
    }
   ],
   "source": [
    "df.head(3)"
   ]
  },
  {
   "cell_type": "code",
   "execution_count": 53,
   "metadata": {},
   "outputs": [
    {
     "data": {
      "text/html": [
       "<div>\n",
       "<style scoped>\n",
       "    .dataframe tbody tr th:only-of-type {\n",
       "        vertical-align: middle;\n",
       "    }\n",
       "\n",
       "    .dataframe tbody tr th {\n",
       "        vertical-align: top;\n",
       "    }\n",
       "\n",
       "    .dataframe thead th {\n",
       "        text-align: right;\n",
       "    }\n",
       "</style>\n",
       "<table border=\"1\" class=\"dataframe\">\n",
       "  <thead>\n",
       "    <tr style=\"text-align: right;\">\n",
       "      <th></th>\n",
       "      <th>survey_number</th>\n",
       "      <th>age</th>\n",
       "      <th>gender</th>\n",
       "      <th>country</th>\n",
       "      <th>education_level</th>\n",
       "      <th>programming_experience</th>\n",
       "      <th>programming_language</th>\n",
       "      <th>primary_bd_tool</th>\n",
       "      <th>years_ml</th>\n",
       "      <th>ml_frameworks</th>\n",
       "      <th>ml_algorithms</th>\n",
       "      <th>role</th>\n",
       "      <th>salary</th>\n",
       "      <th>industry</th>\n",
       "      <th>company_size</th>\n",
       "      <th>people_in_data</th>\n",
       "      <th>gender_2</th>\n",
       "    </tr>\n",
       "  </thead>\n",
       "  <tbody>\n",
       "    <tr>\n",
       "      <th>25970</th>\n",
       "      <td>494</td>\n",
       "      <td>50-54</td>\n",
       "      <td>Man</td>\n",
       "      <td>Sweden</td>\n",
       "      <td>Doctoral degree</td>\n",
       "      <td>I have never written code</td>\n",
       "      <td>NaN</td>\n",
       "      <td>Basic statistical software (Microsoft Excel, G...</td>\n",
       "      <td>NaN</td>\n",
       "      <td>NaN</td>\n",
       "      <td>NaN</td>\n",
       "      <td>Research Scientist</td>\n",
       "      <td>$0-999</td>\n",
       "      <td>Academics/Education</td>\n",
       "      <td>1000-9,999 employees</td>\n",
       "      <td>20+</td>\n",
       "      <td>Man</td>\n",
       "    </tr>\n",
       "    <tr>\n",
       "      <th>25971</th>\n",
       "      <td>277</td>\n",
       "      <td>45-49</td>\n",
       "      <td>Man</td>\n",
       "      <td>United States of America</td>\n",
       "      <td>Master’s degree</td>\n",
       "      <td>5-10 years</td>\n",
       "      <td>Python, SQL</td>\n",
       "      <td>NaN</td>\n",
       "      <td>4-5 years</td>\n",
       "      <td>Scikit-learn</td>\n",
       "      <td>Linear or Logistic Regression, Decision Trees ...</td>\n",
       "      <td>Data Scientist</td>\n",
       "      <td>NaN</td>\n",
       "      <td>Online Service/Internet-based Services</td>\n",
       "      <td>10,000 or more employees</td>\n",
       "      <td>20+</td>\n",
       "      <td>Man</td>\n",
       "    </tr>\n",
       "    <tr>\n",
       "      <th>25972</th>\n",
       "      <td>255</td>\n",
       "      <td>18-21</td>\n",
       "      <td>Man</td>\n",
       "      <td>India</td>\n",
       "      <td>Bachelor’s degree</td>\n",
       "      <td>I have never written code</td>\n",
       "      <td>NaN</td>\n",
       "      <td>Advanced statistical software (SPSS, SAS, etc.)</td>\n",
       "      <td>NaN</td>\n",
       "      <td>NaN</td>\n",
       "      <td>NaN</td>\n",
       "      <td>Business Analyst</td>\n",
       "      <td>$0-999</td>\n",
       "      <td>Other</td>\n",
       "      <td>0-49 employees</td>\n",
       "      <td>0</td>\n",
       "      <td>Man</td>\n",
       "    </tr>\n",
       "  </tbody>\n",
       "</table>\n",
       "</div>"
      ],
      "text/plain": [
       "       survey_number    age gender                   country  \\\n",
       "25970            494  50-54    Man                    Sweden   \n",
       "25971            277  45-49    Man  United States of America   \n",
       "25972            255  18-21    Man                     India   \n",
       "\n",
       "         education_level     programming_experience programming_language  \\\n",
       "25970    Doctoral degree  I have never written code                  NaN   \n",
       "25971    Master’s degree                 5-10 years          Python, SQL   \n",
       "25972  Bachelor’s degree  I have never written code                  NaN   \n",
       "\n",
       "                                         primary_bd_tool   years_ml  \\\n",
       "25970  Basic statistical software (Microsoft Excel, G...        NaN   \n",
       "25971                                                NaN  4-5 years   \n",
       "25972    Advanced statistical software (SPSS, SAS, etc.)        NaN   \n",
       "\n",
       "       ml_frameworks                                      ml_algorithms  \\\n",
       "25970            NaN                                                NaN   \n",
       "25971  Scikit-learn   Linear or Logistic Regression, Decision Trees ...   \n",
       "25972            NaN                                                NaN   \n",
       "\n",
       "                     role  salary                                industry  \\\n",
       "25970  Research Scientist  $0-999                     Academics/Education   \n",
       "25971      Data Scientist     NaN  Online Service/Internet-based Services   \n",
       "25972    Business Analyst  $0-999                                   Other   \n",
       "\n",
       "                   company_size people_in_data gender_2  \n",
       "25970      1000-9,999 employees            20+      Man  \n",
       "25971  10,000 or more employees            20+      Man  \n",
       "25972            0-49 employees              0      Man  "
      ]
     },
     "execution_count": 53,
     "metadata": {},
     "output_type": "execute_result"
    }
   ],
   "source": [
    "df.tail(3)"
   ]
  },
  {
   "cell_type": "code",
   "execution_count": 54,
   "metadata": {},
   "outputs": [
    {
     "data": {
      "text/plain": [
       "(25973, 17)"
      ]
     },
     "execution_count": 54,
     "metadata": {},
     "output_type": "execute_result"
    }
   ],
   "source": [
    "df.shape"
   ]
  },
  {
   "cell_type": "markdown",
   "metadata": {},
   "source": [
    "Analizamos que tipo de datos tenemos"
   ]
  },
  {
   "cell_type": "code",
   "execution_count": 55,
   "metadata": {},
   "outputs": [
    {
     "data": {
      "text/plain": [
       "survey_number              int64\n",
       "age                       object\n",
       "gender                    object\n",
       "country                   object\n",
       "education_level           object\n",
       "programming_experience    object\n",
       "programming_language      object\n",
       "primary_bd_tool           object\n",
       "years_ml                  object\n",
       "ml_frameworks             object\n",
       "ml_algorithms             object\n",
       "role                      object\n",
       "salary                    object\n",
       "industry                  object\n",
       "company_size              object\n",
       "people_in_data            object\n",
       "gender_2                  object\n",
       "dtype: object"
      ]
     },
     "execution_count": 55,
     "metadata": {},
     "output_type": "execute_result"
    }
   ],
   "source": [
    "df.dtypes"
   ]
  },
  {
   "cell_type": "code",
   "execution_count": 56,
   "metadata": {},
   "outputs": [
    {
     "data": {
      "text/html": [
       "<div>\n",
       "<style scoped>\n",
       "    .dataframe tbody tr th:only-of-type {\n",
       "        vertical-align: middle;\n",
       "    }\n",
       "\n",
       "    .dataframe tbody tr th {\n",
       "        vertical-align: top;\n",
       "    }\n",
       "\n",
       "    .dataframe thead th {\n",
       "        text-align: right;\n",
       "    }\n",
       "</style>\n",
       "<table border=\"1\" class=\"dataframe\">\n",
       "  <thead>\n",
       "    <tr style=\"text-align: right;\">\n",
       "      <th></th>\n",
       "      <th>count</th>\n",
       "      <th>mean</th>\n",
       "      <th>std</th>\n",
       "      <th>min</th>\n",
       "      <th>25%</th>\n",
       "      <th>50%</th>\n",
       "      <th>75%</th>\n",
       "      <th>max</th>\n",
       "    </tr>\n",
       "  </thead>\n",
       "  <tbody>\n",
       "    <tr>\n",
       "      <th>survey_number</th>\n",
       "      <td>25973.0</td>\n",
       "      <td>11054.664921</td>\n",
       "      <td>101471.622125</td>\n",
       "      <td>120.0</td>\n",
       "      <td>443.0</td>\n",
       "      <td>656.0</td>\n",
       "      <td>1038.0</td>\n",
       "      <td>2488653.0</td>\n",
       "    </tr>\n",
       "  </tbody>\n",
       "</table>\n",
       "</div>"
      ],
      "text/plain": [
       "                 count          mean            std    min    25%    50%  \\\n",
       "survey_number  25973.0  11054.664921  101471.622125  120.0  443.0  656.0   \n",
       "\n",
       "                  75%        max  \n",
       "survey_number  1038.0  2488653.0  "
      ]
     },
     "execution_count": 56,
     "metadata": {},
     "output_type": "execute_result"
    }
   ],
   "source": [
    "df.describe().T"
   ]
  },
  {
   "cell_type": "code",
   "execution_count": 57,
   "metadata": {},
   "outputs": [
    {
     "data": {
      "text/html": [
       "<div>\n",
       "<style scoped>\n",
       "    .dataframe tbody tr th:only-of-type {\n",
       "        vertical-align: middle;\n",
       "    }\n",
       "\n",
       "    .dataframe tbody tr th {\n",
       "        vertical-align: top;\n",
       "    }\n",
       "\n",
       "    .dataframe thead th {\n",
       "        text-align: right;\n",
       "    }\n",
       "</style>\n",
       "<table border=\"1\" class=\"dataframe\">\n",
       "  <thead>\n",
       "    <tr style=\"text-align: right;\">\n",
       "      <th></th>\n",
       "      <th>count</th>\n",
       "      <th>unique</th>\n",
       "      <th>top</th>\n",
       "      <th>freq</th>\n",
       "    </tr>\n",
       "  </thead>\n",
       "  <tbody>\n",
       "    <tr>\n",
       "      <th>age</th>\n",
       "      <td>25973</td>\n",
       "      <td>11</td>\n",
       "      <td>25-29</td>\n",
       "      <td>4931</td>\n",
       "    </tr>\n",
       "    <tr>\n",
       "      <th>gender</th>\n",
       "      <td>25973</td>\n",
       "      <td>5</td>\n",
       "      <td>Man</td>\n",
       "      <td>20598</td>\n",
       "    </tr>\n",
       "    <tr>\n",
       "      <th>country</th>\n",
       "      <td>25973</td>\n",
       "      <td>66</td>\n",
       "      <td>India</td>\n",
       "      <td>7434</td>\n",
       "    </tr>\n",
       "    <tr>\n",
       "      <th>education_level</th>\n",
       "      <td>25973</td>\n",
       "      <td>7</td>\n",
       "      <td>Master’s degree</td>\n",
       "      <td>10132</td>\n",
       "    </tr>\n",
       "    <tr>\n",
       "      <th>programming_experience</th>\n",
       "      <td>25973</td>\n",
       "      <td>7</td>\n",
       "      <td>1-3 years</td>\n",
       "      <td>7874</td>\n",
       "    </tr>\n",
       "    <tr>\n",
       "      <th>programming_language</th>\n",
       "      <td>24941</td>\n",
       "      <td>825</td>\n",
       "      <td>Python</td>\n",
       "      <td>4740</td>\n",
       "    </tr>\n",
       "    <tr>\n",
       "      <th>primary_bd_tool</th>\n",
       "      <td>18489</td>\n",
       "      <td>6</td>\n",
       "      <td>Basic statistical software (Microsoft Excel, G...</td>\n",
       "      <td>7246</td>\n",
       "    </tr>\n",
       "    <tr>\n",
       "      <th>years_ml</th>\n",
       "      <td>23754</td>\n",
       "      <td>9</td>\n",
       "      <td>&lt; 1 year</td>\n",
       "      <td>9163</td>\n",
       "    </tr>\n",
       "    <tr>\n",
       "      <th>ml_frameworks</th>\n",
       "      <td>19624</td>\n",
       "      <td>1401</td>\n",
       "      <td>Scikit-learn</td>\n",
       "      <td>2688</td>\n",
       "    </tr>\n",
       "    <tr>\n",
       "      <th>ml_algorithms</th>\n",
       "      <td>19315</td>\n",
       "      <td>756</td>\n",
       "      <td>Linear or Logistic Regression, Decision Trees ...</td>\n",
       "      <td>1807</td>\n",
       "    </tr>\n",
       "    <tr>\n",
       "      <th>role</th>\n",
       "      <td>25973</td>\n",
       "      <td>15</td>\n",
       "      <td>Student</td>\n",
       "      <td>6804</td>\n",
       "    </tr>\n",
       "    <tr>\n",
       "      <th>salary</th>\n",
       "      <td>15391</td>\n",
       "      <td>26</td>\n",
       "      <td>$0-999</td>\n",
       "      <td>3369</td>\n",
       "    </tr>\n",
       "    <tr>\n",
       "      <th>industry</th>\n",
       "      <td>16325</td>\n",
       "      <td>18</td>\n",
       "      <td>Computers/Technology</td>\n",
       "      <td>4079</td>\n",
       "    </tr>\n",
       "    <tr>\n",
       "      <th>company_size</th>\n",
       "      <td>16251</td>\n",
       "      <td>5</td>\n",
       "      <td>0-49 employees</td>\n",
       "      <td>5055</td>\n",
       "    </tr>\n",
       "    <tr>\n",
       "      <th>people_in_data</th>\n",
       "      <td>16126</td>\n",
       "      <td>7</td>\n",
       "      <td>1-2</td>\n",
       "      <td>3642</td>\n",
       "    </tr>\n",
       "    <tr>\n",
       "      <th>gender_2</th>\n",
       "      <td>25973</td>\n",
       "      <td>3</td>\n",
       "      <td>Man</td>\n",
       "      <td>20598</td>\n",
       "    </tr>\n",
       "  </tbody>\n",
       "</table>\n",
       "</div>"
      ],
      "text/plain": [
       "                        count unique  \\\n",
       "age                     25973     11   \n",
       "gender                  25973      5   \n",
       "country                 25973     66   \n",
       "education_level         25973      7   \n",
       "programming_experience  25973      7   \n",
       "programming_language    24941    825   \n",
       "primary_bd_tool         18489      6   \n",
       "years_ml                23754      9   \n",
       "ml_frameworks           19624   1401   \n",
       "ml_algorithms           19315    756   \n",
       "role                    25973     15   \n",
       "salary                  15391     26   \n",
       "industry                16325     18   \n",
       "company_size            16251      5   \n",
       "people_in_data          16126      7   \n",
       "gender_2                25973      3   \n",
       "\n",
       "                                                                      top  \\\n",
       "age                                                                 25-29   \n",
       "gender                                                                Man   \n",
       "country                                                             India   \n",
       "education_level                                           Master’s degree   \n",
       "programming_experience                                          1-3 years   \n",
       "programming_language                                               Python   \n",
       "primary_bd_tool         Basic statistical software (Microsoft Excel, G...   \n",
       "years_ml                                                         < 1 year   \n",
       "ml_frameworks                                               Scikit-learn    \n",
       "ml_algorithms           Linear or Logistic Regression, Decision Trees ...   \n",
       "role                                                              Student   \n",
       "salary                                                             $0-999   \n",
       "industry                                             Computers/Technology   \n",
       "company_size                                               0-49 employees   \n",
       "people_in_data                                                        1-2   \n",
       "gender_2                                                              Man   \n",
       "\n",
       "                         freq  \n",
       "age                      4931  \n",
       "gender                  20598  \n",
       "country                  7434  \n",
       "education_level         10132  \n",
       "programming_experience   7874  \n",
       "programming_language     4740  \n",
       "primary_bd_tool          7246  \n",
       "years_ml                 9163  \n",
       "ml_frameworks            2688  \n",
       "ml_algorithms            1807  \n",
       "role                     6804  \n",
       "salary                   3369  \n",
       "industry                 4079  \n",
       "company_size             5055  \n",
       "people_in_data           3642  \n",
       "gender_2                20598  "
      ]
     },
     "execution_count": 57,
     "metadata": {},
     "output_type": "execute_result"
    }
   ],
   "source": [
    "df.describe(include = ['O']).T"
   ]
  },
  {
   "cell_type": "markdown",
   "metadata": {},
   "source": [
    "Revisamos los nulos que tenemos"
   ]
  },
  {
   "cell_type": "code",
   "execution_count": 58,
   "metadata": {},
   "outputs": [
    {
     "data": {
      "text/plain": [
       "survey_number                 0\n",
       "age                           0\n",
       "gender                        0\n",
       "country                       0\n",
       "education_level               0\n",
       "programming_experience        0\n",
       "programming_language       1032\n",
       "primary_bd_tool            7484\n",
       "years_ml                   2219\n",
       "ml_frameworks              6349\n",
       "ml_algorithms              6658\n",
       "role                          0\n",
       "salary                    10582\n",
       "industry                   9648\n",
       "company_size               9722\n",
       "people_in_data             9847\n",
       "gender_2                      0\n",
       "dtype: int64"
      ]
     },
     "execution_count": 58,
     "metadata": {},
     "output_type": "execute_result"
    }
   ],
   "source": [
    "df.isnull().sum()"
   ]
  },
  {
   "cell_type": "markdown",
   "metadata": {},
   "source": [
    "Revisar duplicados"
   ]
  },
  {
   "cell_type": "code",
   "execution_count": 59,
   "metadata": {},
   "outputs": [
    {
     "data": {
      "text/plain": [
       "1"
      ]
     },
     "execution_count": 59,
     "metadata": {},
     "output_type": "execute_result"
    }
   ],
   "source": [
    "df.duplicated().sum()"
   ]
  },
  {
   "cell_type": "markdown",
   "metadata": {},
   "source": [
    "Encontramos el duplicado"
   ]
  },
  {
   "cell_type": "code",
   "execution_count": 60,
   "metadata": {},
   "outputs": [
    {
     "data": {
      "text/html": [
       "<div>\n",
       "<style scoped>\n",
       "    .dataframe tbody tr th:only-of-type {\n",
       "        vertical-align: middle;\n",
       "    }\n",
       "\n",
       "    .dataframe tbody tr th {\n",
       "        vertical-align: top;\n",
       "    }\n",
       "\n",
       "    .dataframe thead th {\n",
       "        text-align: right;\n",
       "    }\n",
       "</style>\n",
       "<table border=\"1\" class=\"dataframe\">\n",
       "  <thead>\n",
       "    <tr style=\"text-align: right;\">\n",
       "      <th></th>\n",
       "      <th>survey_number</th>\n",
       "      <th>age</th>\n",
       "      <th>gender</th>\n",
       "      <th>country</th>\n",
       "      <th>education_level</th>\n",
       "      <th>programming_experience</th>\n",
       "      <th>programming_language</th>\n",
       "      <th>primary_bd_tool</th>\n",
       "      <th>years_ml</th>\n",
       "      <th>ml_frameworks</th>\n",
       "      <th>ml_algorithms</th>\n",
       "      <th>role</th>\n",
       "      <th>salary</th>\n",
       "      <th>industry</th>\n",
       "      <th>company_size</th>\n",
       "      <th>people_in_data</th>\n",
       "      <th>gender_2</th>\n",
       "    </tr>\n",
       "  </thead>\n",
       "  <tbody>\n",
       "    <tr>\n",
       "      <th>24480</th>\n",
       "      <td>297</td>\n",
       "      <td>18-21</td>\n",
       "      <td>Man</td>\n",
       "      <td>India</td>\n",
       "      <td>Bachelor’s degree</td>\n",
       "      <td>&lt; 1 years</td>\n",
       "      <td>Python, C, C++</td>\n",
       "      <td>NaN</td>\n",
       "      <td>I do not use machine learning methods</td>\n",
       "      <td>NaN</td>\n",
       "      <td>NaN</td>\n",
       "      <td>Student</td>\n",
       "      <td>NaN</td>\n",
       "      <td>NaN</td>\n",
       "      <td>NaN</td>\n",
       "      <td>NaN</td>\n",
       "      <td>Man</td>\n",
       "    </tr>\n",
       "  </tbody>\n",
       "</table>\n",
       "</div>"
      ],
      "text/plain": [
       "       survey_number    age gender country    education_level  \\\n",
       "24480            297  18-21    Man   India  Bachelor’s degree   \n",
       "\n",
       "      programming_experience programming_language primary_bd_tool  \\\n",
       "24480              < 1 years       Python, C, C++             NaN   \n",
       "\n",
       "                                    years_ml ml_frameworks ml_algorithms  \\\n",
       "24480  I do not use machine learning methods           NaN           NaN   \n",
       "\n",
       "          role salary industry company_size people_in_data gender_2  \n",
       "24480  Student    NaN      NaN          NaN            NaN      Man  "
      ]
     },
     "execution_count": 60,
     "metadata": {},
     "output_type": "execute_result"
    }
   ],
   "source": [
    "df.loc[df.duplicated(), :]"
   ]
  },
  {
   "cell_type": "code",
   "execution_count": 61,
   "metadata": {},
   "outputs": [
    {
     "data": {
      "text/html": [
       "<div>\n",
       "<style scoped>\n",
       "    .dataframe tbody tr th:only-of-type {\n",
       "        vertical-align: middle;\n",
       "    }\n",
       "\n",
       "    .dataframe tbody tr th {\n",
       "        vertical-align: top;\n",
       "    }\n",
       "\n",
       "    .dataframe thead th {\n",
       "        text-align: right;\n",
       "    }\n",
       "</style>\n",
       "<table border=\"1\" class=\"dataframe\">\n",
       "  <thead>\n",
       "    <tr style=\"text-align: right;\">\n",
       "      <th></th>\n",
       "      <th>survey_number</th>\n",
       "      <th>age</th>\n",
       "      <th>gender</th>\n",
       "      <th>country</th>\n",
       "      <th>education_level</th>\n",
       "      <th>programming_experience</th>\n",
       "      <th>programming_language</th>\n",
       "      <th>primary_bd_tool</th>\n",
       "      <th>years_ml</th>\n",
       "      <th>ml_frameworks</th>\n",
       "      <th>ml_algorithms</th>\n",
       "      <th>role</th>\n",
       "      <th>salary</th>\n",
       "      <th>industry</th>\n",
       "      <th>company_size</th>\n",
       "      <th>people_in_data</th>\n",
       "      <th>gender_2</th>\n",
       "    </tr>\n",
       "  </thead>\n",
       "  <tbody>\n",
       "    <tr>\n",
       "      <th>24480</th>\n",
       "      <td>297</td>\n",
       "      <td>18-21</td>\n",
       "      <td>Man</td>\n",
       "      <td>India</td>\n",
       "      <td>Bachelor’s degree</td>\n",
       "      <td>&lt; 1 years</td>\n",
       "      <td>Python, C, C++</td>\n",
       "      <td>NaN</td>\n",
       "      <td>I do not use machine learning methods</td>\n",
       "      <td>NaN</td>\n",
       "      <td>NaN</td>\n",
       "      <td>Student</td>\n",
       "      <td>NaN</td>\n",
       "      <td>NaN</td>\n",
       "      <td>NaN</td>\n",
       "      <td>NaN</td>\n",
       "      <td>Man</td>\n",
       "    </tr>\n",
       "  </tbody>\n",
       "</table>\n",
       "</div>"
      ],
      "text/plain": [
       "       survey_number    age gender country    education_level  \\\n",
       "24480            297  18-21    Man   India  Bachelor’s degree   \n",
       "\n",
       "      programming_experience programming_language primary_bd_tool  \\\n",
       "24480              < 1 years       Python, C, C++             NaN   \n",
       "\n",
       "                                    years_ml ml_frameworks ml_algorithms  \\\n",
       "24480  I do not use machine learning methods           NaN           NaN   \n",
       "\n",
       "          role salary industry company_size people_in_data gender_2  \n",
       "24480  Student    NaN      NaN          NaN            NaN      Man  "
      ]
     },
     "execution_count": 61,
     "metadata": {},
     "output_type": "execute_result"
    }
   ],
   "source": [
    "df.loc[[24480]]\n"
   ]
  },
  {
   "cell_type": "markdown",
   "metadata": {},
   "source": [
    "eliminamos el duplicado"
   ]
  },
  {
   "cell_type": "code",
   "execution_count": 62,
   "metadata": {},
   "outputs": [],
   "source": [
    "df.drop_duplicates(inplace= True)"
   ]
  },
  {
   "cell_type": "code",
   "execution_count": 63,
   "metadata": {},
   "outputs": [
    {
     "data": {
      "text/plain": [
       "0"
      ]
     },
     "execution_count": 63,
     "metadata": {},
     "output_type": "execute_result"
    }
   ],
   "source": [
    "df.duplicated().sum()"
   ]
  },
  {
   "cell_type": "markdown",
   "metadata": {},
   "source": [
    "Revisar valores únicos"
   ]
  },
  {
   "cell_type": "code",
   "execution_count": 64,
   "metadata": {},
   "outputs": [
    {
     "data": {
      "text/plain": [
       "array(['Other', 'Program/Project Manager', 'Software Engineer',\n",
       "       'Research Scientist', 'Currently not employed', 'Student',\n",
       "       'Data Scientist', 'Data Analyst', 'Machine Learning Engineer',\n",
       "       'Business Analyst', 'Data Engineer', 'Product Manager',\n",
       "       'Statistician', 'Developer Relations/Advocacy',\n",
       "       'DBA/Database Engineer'], dtype=object)"
      ]
     },
     "execution_count": 64,
     "metadata": {},
     "output_type": "execute_result"
    }
   ],
   "source": [
    "df.role.unique()"
   ]
  },
  {
   "cell_type": "code",
   "execution_count": 80,
   "metadata": {},
   "outputs": [],
   "source": [
    "plt.rcParams[\"figure.figsize\"] = (10,8)\n",
    "warnings.filterwarnings('ignore')"
   ]
  },
  {
   "cell_type": "code",
   "execution_count": 82,
   "metadata": {},
   "outputs": [
    {
     "data": {
      "image/png": "[encoded data removed]",
      "text/plain": [
       "<Figure size 720x576 with 1 Axes>"
      ]
     },
     "metadata": {
      "needs_background": "light"
     },
     "output_type": "display_data"
    }
   ],
   "source": [
    "ax = sns.countplot(y=\"role\", data=df)"
   ]
  },
  {
   "cell_type": "markdown",
   "metadata": {},
   "source": [
    "    Role no tiene nulos ni errores en valores únicos. No necesitamos hacer cambios"
   ]
  },
  {
   "cell_type": "code",
   "execution_count": null,
   "metadata": {},
   "outputs": [],
   "source": [
    "df.salary.unique()"
   ]
  },
  {
   "cell_type": "code",
   "execution_count": null,
   "metadata": {},
   "outputs": [],
   "source": [
    "df.salary.value_counts()"
   ]
  },
  {
   "cell_type": "markdown",
   "metadata": {},
   "source": [
    "La columna salario tiene el simbolo $ en algunos valores, decidimos quitar este signo"
   ]
  },
  {
   "cell_type": "code",
   "execution_count": 67,
   "metadata": {},
   "outputs": [
    {
     "name": "stderr",
     "output_type": "stream",
     "text": [
      "/tmp/ipykernel_187/3108452533.py:1: FutureWarning: The default value of regex will change from True to False in a future version. In addition, single character regular expressions will *not* be treated as literal strings when regex=True.\n",
      "  df[\"salary_clean\"] = df[\"salary\"].str.replace(\"$\",\"\")\n"
     ]
    }
   ],
   "source": [
    "df[\"salary_clean\"] = df[\"salary\"].str.replace(\"$\",\"\")"
   ]
  },
  {
   "cell_type": "code",
   "execution_count": 92,
   "metadata": {},
   "outputs": [
    {
     "data": {
      "text/plain": [
       "0-999              3369\n",
       "1,000-1,999         969\n",
       "10,000-14,999       950\n",
       "30,000-39,999       741\n",
       "100,000-124,999     725\n",
       "5,000-7,499         699\n",
       "50,000-59,999       697\n",
       "40,000-49,999       688\n",
       "20,000-24,999       587\n",
       "2,000-2,999         575\n",
       "15,000-19,999       573\n",
       "7,500-9,999         552\n",
       "60,000-69,999       551\n",
       "25,000-29,999       470\n",
       "70,000-79,999       464\n",
       "4,000-4,999         456\n",
       "150,000-199,999     392\n",
       "80,000-89,999       391\n",
       "3,000-3,999         380\n",
       "125,000-149,999     379\n",
       "90,000-99,999       350\n",
       "200,000-249,999     177\n",
       "300,000-499,999      91\n",
       "250,000-299,999      75\n",
       ">1,000,000           58\n",
       "500,000-999,999      32\n",
       "Name: salary_clean, dtype: int64"
      ]
     },
     "execution_count": 92,
     "metadata": {},
     "output_type": "execute_result"
    }
   ],
   "source": [
    "df.salary_clean.value_counts()"
   ]
  },
  {
   "cell_type": "code",
   "execution_count": 69,
   "metadata": {},
   "outputs": [
    {
     "data": {
      "text/plain": [
       "10581"
      ]
     },
     "execution_count": 69,
     "metadata": {},
     "output_type": "execute_result"
    }
   ],
   "source": [
    "df.salary.isnull().sum()"
   ]
  },
  {
   "cell_type": "markdown",
   "metadata": {},
   "source": [
    "para que salga la gráfica en el orden que quiero, he puesto una variable con el nombre de las columnas ordenadas."
   ]
  },
  {
   "cell_type": "code",
   "execution_count": 96,
   "metadata": {},
   "outputs": [],
   "source": [
    "salary_order= '0-999', '1,000-1,999', '2,000-2,999', '3,000-3,999','4,000-4,999','5,000-7,499', '7,500-9,999','10,000-14,999','15,000-19,999','20,000-24,999', \"25,000-29,999\",'30,000-39,999','40,000-49,999', '50,000-59,999','60,000-69,999', '70,000-79,999','80,000-89,999','90,000-99,999', '100,000-124,999','125,000-149,999','150,000-199,999','200,000-249,999','250,000-299,999','300,000-499,999','500,000-999,999', '>1,000,000'"
   ]
  },
  {
   "cell_type": "code",
   "execution_count": 97,
   "metadata": {},
   "outputs": [
    {
     "data": {
      "image/png": "[encoded data removed]",
      "text/plain": [
       "<Figure size 720x576 with 1 Axes>"
      ]
     },
     "metadata": {
      "needs_background": "light"
     },
     "output_type": "display_data"
    }
   ],
   "source": [
    "ax = sns.countplot(y=\"salary_clean\", data=df, order= salary_order)"
   ]
  },
  {
   "cell_type": "markdown",
   "metadata": {},
   "source": [
    "    SALARIO\n",
    "    Algunos datos tenian el simbolo $. Hemos creado una nueva columna, donde eliminamos el $ de los valores. Falta decidir que hacer con los valores nulos. "
   ]
  },
  {
   "cell_type": "code",
   "execution_count": null,
   "metadata": {},
   "outputs": [],
   "source": [
    "df.industry.value_counts()"
   ]
  },
  {
   "cell_type": "code",
   "execution_count": 71,
   "metadata": {},
   "outputs": [
    {
     "data": {
      "text/plain": [
       "9647"
      ]
     },
     "execution_count": 71,
     "metadata": {},
     "output_type": "execute_result"
    }
   ],
   "source": [
    "df.industry.isnull().sum()"
   ]
  },
  {
   "cell_type": "code",
   "execution_count": 104,
   "metadata": {},
   "outputs": [],
   "source": [
    "large_to_small= df.groupby('industry').size().sort_values().index[::-1]"
   ]
  },
  {
   "cell_type": "code",
   "execution_count": 105,
   "metadata": {},
   "outputs": [
    {
     "data": {
      "image/png": "[encoded data removed]",
      "text/plain": [
       "<Figure size 720x576 with 1 Axes>"
      ]
     },
     "metadata": {
      "needs_background": "light"
     },
     "output_type": "display_data"
    }
   ],
   "source": [
    "ax = sns.countplot(y=\"industry\", data=df, order= large_to_small)"
   ]
  },
  {
   "cell_type": "markdown",
   "metadata": {},
   "source": [
    "    La columna industry tiene valores nulos no hemos decidido que hacer con ellos. "
   ]
  },
  {
   "cell_type": "code",
   "execution_count": 73,
   "metadata": {},
   "outputs": [
    {
     "data": {
      "text/plain": [
       "array(['50-249 employees', '1000-9,999 employees', nan,\n",
       "       '10,000 or more employees', '0-49 employees', '250-999 employees'],\n",
       "      dtype=object)"
      ]
     },
     "execution_count": 73,
     "metadata": {},
     "output_type": "execute_result"
    }
   ],
   "source": [
    "df[\"company_size\"].unique()"
   ]
  },
  {
   "cell_type": "code",
   "execution_count": 74,
   "metadata": {},
   "outputs": [
    {
     "data": {
      "text/plain": [
       "9721"
      ]
     },
     "execution_count": 74,
     "metadata": {},
     "output_type": "execute_result"
    }
   ],
   "source": [
    "df.company_size.isnull().sum()"
   ]
  },
  {
   "cell_type": "markdown",
   "metadata": {},
   "source": [
    "Acá he puesto la variable large to small con el codigo para ordenar según la cantidad"
   ]
  },
  {
   "cell_type": "code",
   "execution_count": 103,
   "metadata": {},
   "outputs": [
    {
     "data": {
      "image/png": "[encoded data removed]",
      "text/plain": [
       "<Figure size 720x576 with 1 Axes>"
      ]
     },
     "metadata": {
      "needs_background": "light"
     },
     "output_type": "display_data"
    }
   ],
   "source": [
    "large_to_small= df.groupby('company_size').size().sort_values().index[::-1]\n",
    "ax = sns.countplot(y=\"company_size\", data=df, order= large_to_small)"
   ]
  },
  {
   "cell_type": "markdown",
   "metadata": {},
   "source": [
    "    La columna company size tiene valores nulos no hemos decidido que hacer con ellos"
   ]
  },
  {
   "cell_type": "code",
   "execution_count": 75,
   "metadata": {},
   "outputs": [
    {
     "data": {
      "text/plain": [
       "array(['3-4', '1-2', '0', '5-9', nan, '10-14', '20+', '15-19'],\n",
       "      dtype=object)"
      ]
     },
     "execution_count": 75,
     "metadata": {},
     "output_type": "execute_result"
    }
   ],
   "source": [
    "df.people_in_data.unique()"
   ]
  },
  {
   "cell_type": "code",
   "execution_count": 76,
   "metadata": {},
   "outputs": [
    {
     "data": {
      "text/plain": [
       "1-2      3642\n",
       "20+      3595\n",
       "0        3064\n",
       "3-4      2558\n",
       "5-9      1850\n",
       "10-14     996\n",
       "15-19     421\n",
       "Name: people_in_data, dtype: int64"
      ]
     },
     "execution_count": 76,
     "metadata": {},
     "output_type": "execute_result"
    }
   ],
   "source": [
    "df.people_in_data.value_counts()"
   ]
  },
  {
   "cell_type": "code",
   "execution_count": 77,
   "metadata": {},
   "outputs": [
    {
     "data": {
      "text/plain": [
       "9846"
      ]
     },
     "execution_count": 77,
     "metadata": {},
     "output_type": "execute_result"
    }
   ],
   "source": [
    "df.people_in_data.isnull().sum()"
   ]
  },
  {
   "cell_type": "code",
   "execution_count": 107,
   "metadata": {},
   "outputs": [
    {
     "data": {
      "text/plain": [
       "array(['3-4', '1-2', '0', '5-9', nan, '10-14', '20+', '15-19'],\n",
       "      dtype=object)"
      ]
     },
     "execution_count": 107,
     "metadata": {},
     "output_type": "execute_result"
    }
   ],
   "source": [
    "df.people_in_data.unique()"
   ]
  },
  {
   "cell_type": "code",
   "execution_count": 108,
   "metadata": {},
   "outputs": [],
   "source": [
    "pd_order= '0', '1-2', '3-4', '5-9', '10-14','15-19', '20+' "
   ]
  },
  {
   "cell_type": "code",
   "execution_count": 109,
   "metadata": {},
   "outputs": [
    {
     "data": {
      "image/png": "[encoded data removed]",
      "text/plain": [
       "<Figure size 720x576 with 1 Axes>"
      ]
     },
     "metadata": {
      "needs_background": "light"
     },
     "output_type": "display_data"
    }
   ],
   "source": [
    "ax = sns.countplot(y=\"people_in_data\", data=df, order= pd_order)"
   ]
  },
  {
   "cell_type": "markdown",
   "metadata": {},
   "source": [
    "    La columna people in data tiene valores nulos no hemos decidido que hacer con ellos, suena un poco raro 0 personas in data, podriamos cambiar el nombre de 0 por sin equipo. "
   ]
  },
  {
   "cell_type": "code",
   "execution_count": 110,
   "metadata": {},
   "outputs": [],
   "source": [
    "df.to_csv(\"analisis_exploratorio_col_empresas.csv\")"
   ]
  }
 ],
 "metadata": {
  "interpreter": {
   "hash": "328661ec968ebc77b93161299d44fd1f4547ee33c9a17c5e95f23064c7c08def"
  },
  "kernelspec": {
   "display_name": "Python 3.9.7 ('base')",
   "language": "python",
   "name": "python3"
  },
  "language_info": {
   "codemirror_mode": {
    "name": "ipython",
    "version": 3
   },
   "file_extension": ".py",
   "mimetype": "text/x-python",
   "name": "python",
   "nbconvert_exporter": "python",
   "pygments_lexer": "ipython3",
   "version": "3.9.7"
  },
  "orig_nbformat": 4
 },
 "nbformat": 4,
 "nbformat_minor": 2
}
