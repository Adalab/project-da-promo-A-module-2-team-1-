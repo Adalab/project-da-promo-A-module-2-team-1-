{
 "cells": [
  {
   "cell_type": "code",
   "execution_count": 19,
   "metadata": {},
   "outputs": [
    {
     "data": {
      "text/plain": [
       "'/mnt/d/Descargas/Python/Modulo 2/Proyecto_2/project-da-promo-A-module-2-team-1-'"
      ]
     },
     "execution_count": 19,
     "metadata": {},
     "output_type": "execute_result"
    }
   ],
   "source": [
    "import pandas as pd\n",
    "import numpy as np\n",
    "import os \n",
    "import re\n",
    "import xml.etree.ElementTree as ET\n",
    "from scipy import stats\n",
    "\n",
    "os.getcwd()"
   ]
  },
  {
   "cell_type": "code",
   "execution_count": 2,
   "metadata": {},
   "outputs": [],
   "source": [
    "# Esta es nuestra función para leer el archivo \n",
    "def reader():\n",
    "    #si existe la carpeta de input, entra ahí\n",
    "    if './input' in os.listdir():\n",
    "        os.chdir()\n",
    "    for file in os.listdir(list_dir):\n",
    "        if file.endswith('.csv'): \n",
    "            df = pd.read_csv(file) \n",
    "            print(df.head(5)) \n",
    "        elif file.endswith('.txt'):\n",
    "            df = pd.read_csv(file, sep = ';') \n",
    "            print(df.head(5))\n",
    "        elif file.endswith('.json'):\n",
    "            df = pd.read_json(file)\n",
    "            print(df.head(5))\n",
    "        elif file.endswith('.xml'):\n",
    "            df = pd.read_xml(file) \n",
    "            print(df.head(5)) \n",
    "        elif file.endswith('.xls'): \n",
    "            df = pd.read_excel(file) \n",
    "            print(df.head(5)) \n",
    "        elif file.endswith('.xlsx'): \n",
    "            df = pd.read_excel(file) \n",
    "            print(df.head(5))\n",
    "        else: \n",
    "            print(\"File format not supported\")\n",
    "        \n",
    "    return df\n",
    "\n",
    "\n",
    "list_dir = os.listdir()\n"
   ]
  },
  {
   "cell_type": "code",
   "execution_count": 3,
   "metadata": {},
   "outputs": [
    {
     "ename": "TypeError",
     "evalue": "reader() takes 0 positional arguments but 1 was given",
     "output_type": "error",
     "traceback": [
      "\u001b[0;31m---------------------------------------------------------------------------\u001b[0m",
      "\u001b[0;31mTypeError\u001b[0m                                 Traceback (most recent call last)",
      "\u001b[0;32m/tmp/ipykernel_367/1195849722.py\u001b[0m in \u001b[0;36m<module>\u001b[0;34m\u001b[0m\n\u001b[0;32m----> 1\u001b[0;31m \u001b[0mreader\u001b[0m\u001b[0;34m(\u001b[0m\u001b[0mlist_dir\u001b[0m\u001b[0;34m)\u001b[0m\u001b[0;34m\u001b[0m\u001b[0;34m\u001b[0m\u001b[0m\n\u001b[0m",
      "\u001b[0;31mTypeError\u001b[0m: reader() takes 0 positional arguments but 1 was given"
     ]
    }
   ],
   "source": [
    "reader(list_dir)"
   ]
  },
  {
   "cell_type": "code",
   "execution_count": null,
   "metadata": {},
   "outputs": [
    {
     "data": {
      "text/plain": [
       "['.DS_Store',\n",
       " 'input',\n",
       " 'prueba.csv',\n",
       " 'Prueba_funcion_leer_archivos.ipynb',\n",
       " 'README.md',\n",
       " 'prueba2.ipynb',\n",
       " 'survey_answer_choices.pdf',\n",
       " '.git',\n",
       " 'prueba']"
      ]
     },
     "execution_count": 28,
     "metadata": {},
     "output_type": "execute_result"
    }
   ],
   "source": []
  },
  {
   "cell_type": "code",
   "execution_count": null,
   "metadata": {},
   "outputs": [],
   "source": [
    "# Esta es nuestra función que guarda en .csv\n",
    "df = reader(file)\n",
    "\n",
    "def save(df):\n",
    "    for file in range(len(os.listdir())): #hay que cambiarlo; dos argumentos\n",
    "        if df_csv not in os.listdir():\n",
    "            df_csv = df.to_csv('prueba.csv')                                                          \n",
    "        else:\n",
    "            i = 1\n",
    "            df_csv = df.to_csv('prueba', i, '.csv')\n",
    "            i = i + 1   \n",
    "    print('El archivo ha sido creado con el nombre:', df_csv)\n",
    "\n",
    "\n",
    "save('prueba.csv')"
   ]
  },
  {
   "cell_type": "markdown",
   "metadata": {},
   "source": [
    "**Lo nuevo usado para la fusión de DataFrame**"
   ]
  },
  {
   "cell_type": "code",
   "execution_count": 13,
   "metadata": {},
   "outputs": [],
   "source": [
    "df_txt = pd.read_csv(\"data_txt_clean.txt\", sep = ';') \n",
    "df_csv = pd.read_csv(\"data.csv\")\n",
    "df_xml = open('data_xml_clean.xml', 'r').read()\n",
    "root = ET.XML(df_xml)  # Parse XML\n",
    "\n",
    "data = []\n",
    "cols = []\n",
    "for i, child in enumerate(root):\n",
    "    data.append([subchild.text for subchild in child])\n",
    "    cols.append(child.tag)\n",
    "\n",
    "df_xml = pd.DataFrame(data)\n",
    "\n"
   ]
  },
  {
   "cell_type": "code",
   "execution_count": 5,
   "metadata": {},
   "outputs": [
    {
     "name": "stdout",
     "output_type": "stream",
     "text": [
      "('Las columnas son: ', Index(['index', 'Q3', 'Q4', 'Q5', 'Q6', 'Q8', 'Q11', 'Q13', 'Q15', 'Q20',\n",
      "       'Q21', 'Q22', 'Q23', 'Q25', 'Q26', 'Q33', 'Q35', 'Q41', 'Q7', 'Q9',\n",
      "       'Q12', 'Q14', 'Q16', 'Q17', 'Q24', 'Q32', 'Q34'],\n",
      "      dtype='object'))\n",
      "('Las columnas son: ', Index(['index', 'Q10_Part_1', 'Q10_Part_2', 'Q10_Part_3', 'Q10_Part_4',\n",
      "       'Q10_Part_5', 'Q10_Part_6', 'Q10_Part_7', 'Q10_Part_8', 'Q10_Part_9',\n",
      "       'Q10_Part_10', 'Q10_Part_11', 'Q10_Part_12', 'Q10_Part_13',\n",
      "       'Q10_Part_14', 'Q10_Part_15', 'Q10_Part_16', 'Q10_OTHER'],\n",
      "      dtype='object'))\n",
      "('Las columnas son: ', RangeIndex(start=0, stop=5, step=1))\n"
     ]
    }
   ],
   "source": [
    "b = (\"Las columnas son: \", df_txt.columns)\n",
    "print(b)\n",
    "a = (\"Las columnas son: \", df_csv.columns)\n",
    "print(a)\n",
    "c= (\"Las columnas son: \", df_xml.columns)\n",
    "print(c)\n"
   ]
  },
  {
   "cell_type": "code",
   "execution_count": null,
   "metadata": {},
   "outputs": [
    {
     "data": {
      "text/html": [
       "<div>\n",
       "<style scoped>\n",
       "    .dataframe tbody tr th:only-of-type {\n",
       "        vertical-align: middle;\n",
       "    }\n",
       "\n",
       "    .dataframe tbody tr th {\n",
       "        vertical-align: top;\n",
       "    }\n",
       "\n",
       "    .dataframe thead th {\n",
       "        text-align: right;\n",
       "    }\n",
       "</style>\n",
       "<table border=\"1\" class=\"dataframe\">\n",
       "  <thead>\n",
       "    <tr style=\"text-align: right;\">\n",
       "      <th></th>\n",
       "      <th>index</th>\n",
       "      <th>Q10_Part_1</th>\n",
       "      <th>Q10_Part_2</th>\n",
       "      <th>Q10_Part_3</th>\n",
       "      <th>Q10_Part_4</th>\n",
       "      <th>Q10_Part_5</th>\n",
       "      <th>Q10_Part_6</th>\n",
       "      <th>Q10_Part_7</th>\n",
       "      <th>Q10_Part_8</th>\n",
       "      <th>Q10_Part_9</th>\n",
       "      <th>Q10_Part_10</th>\n",
       "      <th>Q10_Part_11</th>\n",
       "      <th>Q10_Part_12</th>\n",
       "      <th>Q10_Part_13</th>\n",
       "      <th>Q10_Part_14</th>\n",
       "      <th>Q10_Part_15</th>\n",
       "      <th>Q10_Part_16</th>\n",
       "      <th>Q10_OTHER</th>\n",
       "    </tr>\n",
       "  </thead>\n",
       "  <tbody>\n",
       "    <tr>\n",
       "      <th>0</th>\n",
       "      <td>0</td>\n",
       "      <td>NaN</td>\n",
       "      <td>Colab Notebooks</td>\n",
       "      <td>NaN</td>\n",
       "      <td>NaN</td>\n",
       "      <td>NaN</td>\n",
       "      <td>NaN</td>\n",
       "      <td>NaN</td>\n",
       "      <td>NaN</td>\n",
       "      <td>NaN</td>\n",
       "      <td>NaN</td>\n",
       "      <td>NaN</td>\n",
       "      <td>NaN</td>\n",
       "      <td>NaN</td>\n",
       "      <td>NaN</td>\n",
       "      <td>NaN</td>\n",
       "      <td>NaN</td>\n",
       "      <td>NaN</td>\n",
       "    </tr>\n",
       "    <tr>\n",
       "      <th>1</th>\n",
       "      <td>1</td>\n",
       "      <td>Kaggle Notebooks</td>\n",
       "      <td>Colab Notebooks</td>\n",
       "      <td>NaN</td>\n",
       "      <td>NaN</td>\n",
       "      <td>NaN</td>\n",
       "      <td>NaN</td>\n",
       "      <td>NaN</td>\n",
       "      <td>NaN</td>\n",
       "      <td>NaN</td>\n",
       "      <td>NaN</td>\n",
       "      <td>NaN</td>\n",
       "      <td>NaN</td>\n",
       "      <td>NaN</td>\n",
       "      <td>NaN</td>\n",
       "      <td>NaN</td>\n",
       "      <td>NaN</td>\n",
       "      <td>NaN</td>\n",
       "    </tr>\n",
       "    <tr>\n",
       "      <th>2</th>\n",
       "      <td>2</td>\n",
       "      <td>Kaggle Notebooks</td>\n",
       "      <td>NaN</td>\n",
       "      <td>NaN</td>\n",
       "      <td>NaN</td>\n",
       "      <td>NaN</td>\n",
       "      <td>NaN</td>\n",
       "      <td>NaN</td>\n",
       "      <td>NaN</td>\n",
       "      <td>NaN</td>\n",
       "      <td>NaN</td>\n",
       "      <td>NaN</td>\n",
       "      <td>NaN</td>\n",
       "      <td>NaN</td>\n",
       "      <td>NaN</td>\n",
       "      <td>NaN</td>\n",
       "      <td>NaN</td>\n",
       "      <td>NaN</td>\n",
       "    </tr>\n",
       "  </tbody>\n",
       "</table>\n",
       "</div>"
      ],
      "text/plain": [
       "   index         Q10_Part_1       Q10_Part_2 Q10_Part_3 Q10_Part_4 Q10_Part_5  \\\n",
       "0      0                NaN  Colab Notebooks        NaN        NaN        NaN   \n",
       "1      1   Kaggle Notebooks  Colab Notebooks        NaN        NaN        NaN   \n",
       "2      2   Kaggle Notebooks              NaN        NaN        NaN        NaN   \n",
       "\n",
       "  Q10_Part_6 Q10_Part_7 Q10_Part_8 Q10_Part_9 Q10_Part_10 Q10_Part_11  \\\n",
       "0        NaN        NaN        NaN        NaN         NaN         NaN   \n",
       "1        NaN        NaN        NaN        NaN         NaN         NaN   \n",
       "2        NaN        NaN        NaN        NaN         NaN         NaN   \n",
       "\n",
       "  Q10_Part_12 Q10_Part_13 Q10_Part_14 Q10_Part_15 Q10_Part_16 Q10_OTHER  \n",
       "0         NaN         NaN         NaN         NaN         NaN       NaN  \n",
       "1         NaN         NaN         NaN         NaN         NaN       NaN  \n",
       "2         NaN         NaN         NaN         NaN         NaN       NaN  "
      ]
     },
     "execution_count": 19,
     "metadata": {},
     "output_type": "execute_result"
    }
   ],
   "source": [
    "\n",
    "df_csv.head(3)"
   ]
  },
  {
   "cell_type": "code",
   "execution_count": 24,
   "metadata": {},
   "outputs": [
    {
     "data": {
      "text/html": [
       "<div>\n",
       "<style scoped>\n",
       "    .dataframe tbody tr th:only-of-type {\n",
       "        vertical-align: middle;\n",
       "    }\n",
       "\n",
       "    .dataframe tbody tr th {\n",
       "        vertical-align: top;\n",
       "    }\n",
       "\n",
       "    .dataframe thead th {\n",
       "        text-align: right;\n",
       "    }\n",
       "</style>\n",
       "<table border=\"1\" class=\"dataframe\">\n",
       "  <thead>\n",
       "    <tr style=\"text-align: right;\">\n",
       "      <th></th>\n",
       "      <th>index</th>\n",
       "      <th>registro</th>\n",
       "      <th>edad</th>\n",
       "      <th>sexo</th>\n",
       "    </tr>\n",
       "  </thead>\n",
       "  <tbody>\n",
       "    <tr>\n",
       "      <th>0</th>\n",
       "      <td>0</td>\n",
       "      <td>910</td>\n",
       "      <td>50-54</td>\n",
       "      <td>Man</td>\n",
       "    </tr>\n",
       "    <tr>\n",
       "      <th>1</th>\n",
       "      <td>1</td>\n",
       "      <td>784</td>\n",
       "      <td>50-54</td>\n",
       "      <td>Man</td>\n",
       "    </tr>\n",
       "    <tr>\n",
       "      <th>2</th>\n",
       "      <td>2</td>\n",
       "      <td>924</td>\n",
       "      <td>22-24</td>\n",
       "      <td>Man</td>\n",
       "    </tr>\n",
       "    <tr>\n",
       "      <th>3</th>\n",
       "      <td>3</td>\n",
       "      <td>575</td>\n",
       "      <td>45-49</td>\n",
       "      <td>Man</td>\n",
       "    </tr>\n",
       "    <tr>\n",
       "      <th>4</th>\n",
       "      <td>4</td>\n",
       "      <td>781</td>\n",
       "      <td>45-49</td>\n",
       "      <td>Man</td>\n",
       "    </tr>\n",
       "  </tbody>\n",
       "</table>\n",
       "</div>"
      ],
      "text/plain": [
       "  index registro   edad sexo\n",
       "0     0      910  50-54  Man\n",
       "1     1      784  50-54  Man\n",
       "2     2      924  22-24  Man\n",
       "3     3      575  45-49  Man\n",
       "4     4      781  45-49  Man"
      ]
     },
     "execution_count": 24,
     "metadata": {},
     "output_type": "execute_result"
    }
   ],
   "source": [
    "#del df_xml[0]\n",
    "df_xml.rename(columns={1:'index', 2:'registro', 3:'edad', 4:'sexo'},inplace=True)\n",
    "#df_xml =df_xml.set_index(\"index\")\n",
    "#df_xml = df_xml.drop([0], axis=1)\n",
    "df_xml= df_xml.reset_index(\"index\")\n",
    "\n",
    "df_xml.head()"
   ]
  },
  {
   "cell_type": "code",
   "execution_count": 28,
   "metadata": {},
   "outputs": [
    {
     "data": {
      "text/plain": [
       "index        int64\n",
       "registro    object\n",
       "edad        object\n",
       "sexo        object\n",
       "dtype: object"
      ]
     },
     "execution_count": 28,
     "metadata": {},
     "output_type": "execute_result"
    }
   ],
   "source": [
    "\n",
    "df_xml[\"index\"] = df_xml[\"index\"].astype(\"int64\", copy= True, errors= \"ignore\")\n",
    "df_xml.dtypes"
   ]
  },
  {
   "cell_type": "code",
   "execution_count": null,
   "metadata": {},
   "outputs": [
    {
     "data": {
      "text/html": [
       "<div>\n",
       "<style scoped>\n",
       "    .dataframe tbody tr th:only-of-type {\n",
       "        vertical-align: middle;\n",
       "    }\n",
       "\n",
       "    .dataframe tbody tr th {\n",
       "        vertical-align: top;\n",
       "    }\n",
       "\n",
       "    .dataframe thead th {\n",
       "        text-align: right;\n",
       "    }\n",
       "</style>\n",
       "<table border=\"1\" class=\"dataframe\">\n",
       "  <thead>\n",
       "    <tr style=\"text-align: right;\">\n",
       "      <th></th>\n",
       "      <th>index</th>\n",
       "      <th>Q3</th>\n",
       "      <th>Q4</th>\n",
       "      <th>Q5</th>\n",
       "      <th>Q6</th>\n",
       "      <th>Q8</th>\n",
       "      <th>Q11</th>\n",
       "      <th>Q13</th>\n",
       "      <th>Q15</th>\n",
       "      <th>Q20</th>\n",
       "      <th>...</th>\n",
       "      <th>Q41</th>\n",
       "      <th>Q7</th>\n",
       "      <th>Q9</th>\n",
       "      <th>Q12</th>\n",
       "      <th>Q14</th>\n",
       "      <th>Q16</th>\n",
       "      <th>Q17</th>\n",
       "      <th>Q24</th>\n",
       "      <th>Q32</th>\n",
       "      <th>Q34</th>\n",
       "    </tr>\n",
       "  </thead>\n",
       "  <tbody>\n",
       "    <tr>\n",
       "      <th>0</th>\n",
       "      <td>0</td>\n",
       "      <td>India</td>\n",
       "      <td>Bachelor’s degree</td>\n",
       "      <td>Other</td>\n",
       "      <td>5-10 years</td>\n",
       "      <td>Python</td>\n",
       "      <td>A laptop</td>\n",
       "      <td>2-5 times</td>\n",
       "      <td>5-10 years</td>\n",
       "      <td>Manufacturing/Fabrication</td>\n",
       "      <td>...</td>\n",
       "      <td>Local development environments (RStudio, Jupyt...</td>\n",
       "      <td>Python, R</td>\n",
       "      <td>Vim / Emacs</td>\n",
       "      <td>Google Cloud TPUs</td>\n",
       "      <td>Matplotlib ,Seaborn ,Ggplot / ggplot2 ,Shiny ...</td>\n",
       "      <td>Scikit-learn , TensorFlow ,Caret</td>\n",
       "      <td>Linear or Logistic Regression, Decision Trees ...</td>\n",
       "      <td>None of these activities are an important par...</td>\n",
       "      <td>PostgreSQL</td>\n",
       "      <td>None</td>\n",
       "    </tr>\n",
       "    <tr>\n",
       "      <th>1</th>\n",
       "      <td>1</td>\n",
       "      <td>Indonesia</td>\n",
       "      <td>Master’s degree</td>\n",
       "      <td>Program/Project Manager</td>\n",
       "      <td>20+ years</td>\n",
       "      <td>Python</td>\n",
       "      <td>A cloud computing platform (AWS, Azure, GCP, h...</td>\n",
       "      <td>Never</td>\n",
       "      <td>&lt; 1 year</td>\n",
       "      <td>Manufacturing/Fabrication</td>\n",
       "      <td>...</td>\n",
       "      <td>Advanced statistical software (SPSS, SAS, etc.)</td>\n",
       "      <td>SQL, C, C++, Java</td>\n",
       "      <td>Notepad++,Jupyter Notebook</td>\n",
       "      <td>None</td>\n",
       "      <td>Matplotlib</td>\n",
       "      <td>Scikit-learn</td>\n",
       "      <td>Linear or Logistic Regression, Decision Trees ...</td>\n",
       "      <td>Build and/or run the data infrastructure that...</td>\n",
       "      <td>NaN</td>\n",
       "      <td>NaN</td>\n",
       "    </tr>\n",
       "    <tr>\n",
       "      <th>2</th>\n",
       "      <td>2</td>\n",
       "      <td>Pakistan</td>\n",
       "      <td>Master’s degree</td>\n",
       "      <td>Software Engineer</td>\n",
       "      <td>1-3 years</td>\n",
       "      <td>Python</td>\n",
       "      <td>A laptop</td>\n",
       "      <td>Never</td>\n",
       "      <td>I do not use machine learning methods</td>\n",
       "      <td>Academics/Education</td>\n",
       "      <td>...</td>\n",
       "      <td>Basic statistical software (Microsoft Excel, G...</td>\n",
       "      <td>Python, C++, Java</td>\n",
       "      <td>PyCharm ,Jupyter Notebook, Other</td>\n",
       "      <td>Other</td>\n",
       "      <td>Matplotlib</td>\n",
       "      <td>NaN</td>\n",
       "      <td>NaN</td>\n",
       "      <td>None of these activities are an important par...</td>\n",
       "      <td>MySQL , MongoDB</td>\n",
       "      <td>None</td>\n",
       "    </tr>\n",
       "  </tbody>\n",
       "</table>\n",
       "<p>3 rows × 27 columns</p>\n",
       "</div>"
      ],
      "text/plain": [
       "   index         Q3                 Q4                       Q5          Q6  \\\n",
       "0      0      India  Bachelor’s degree                    Other  5-10 years   \n",
       "1      1  Indonesia    Master’s degree  Program/Project Manager   20+ years   \n",
       "2      2   Pakistan    Master’s degree        Software Engineer   1-3 years   \n",
       "\n",
       "       Q8                                                Q11        Q13  \\\n",
       "0  Python                                           A laptop  2-5 times   \n",
       "1  Python  A cloud computing platform (AWS, Azure, GCP, h...      Never   \n",
       "2  Python                                           A laptop      Never   \n",
       "\n",
       "                                     Q15                        Q20  ...  \\\n",
       "0                             5-10 years  Manufacturing/Fabrication  ...   \n",
       "1                               < 1 year  Manufacturing/Fabrication  ...   \n",
       "2  I do not use machine learning methods        Academics/Education  ...   \n",
       "\n",
       "                                                 Q41                  Q7  \\\n",
       "0  Local development environments (RStudio, Jupyt...           Python, R   \n",
       "1    Advanced statistical software (SPSS, SAS, etc.)   SQL, C, C++, Java   \n",
       "2  Basic statistical software (Microsoft Excel, G...   Python, C++, Java   \n",
       "\n",
       "                                 Q9                 Q12  \\\n",
       "0                       Vim / Emacs  Google Cloud TPUs    \n",
       "1        Notepad++,Jupyter Notebook                None   \n",
       "2  PyCharm ,Jupyter Notebook, Other               Other   \n",
       "\n",
       "                                                 Q14  \\\n",
       "0   Matplotlib ,Seaborn ,Ggplot / ggplot2 ,Shiny ...   \n",
       "1                                        Matplotlib    \n",
       "2                                        Matplotlib    \n",
       "\n",
       "                                 Q16  \\\n",
       "0  Scikit-learn , TensorFlow ,Caret    \n",
       "1                      Scikit-learn    \n",
       "2                                NaN   \n",
       "\n",
       "                                                 Q17  \\\n",
       "0  Linear or Logistic Regression, Decision Trees ...   \n",
       "1  Linear or Logistic Regression, Decision Trees ...   \n",
       "2                                                NaN   \n",
       "\n",
       "                                                 Q24               Q32    Q34  \n",
       "0   None of these activities are an important par...       PostgreSQL    None  \n",
       "1   Build and/or run the data infrastructure that...               NaN    NaN  \n",
       "2   None of these activities are an important par...  MySQL , MongoDB    None  \n",
       "\n",
       "[3 rows x 27 columns]"
      ]
     },
     "execution_count": 29,
     "metadata": {},
     "output_type": "execute_result"
    }
   ],
   "source": [
    "df_txt.head(3)"
   ]
  },
  {
   "cell_type": "code",
   "execution_count": null,
   "metadata": {},
   "outputs": [],
   "source": [
    "def propiedades (df):\n",
    "    a = (\"El número de filas y columnas es: \", df.shape) \n",
    "    b = (\"Las columnas son: \", df.columns)\n",
    "    c = (\"El tipo de datos es: \", df.dtypes)\n",
    "    d = (\"Cantidad de nulos: \",df.isna().sum()) \n",
    "    e = (\"Descripción general: \", df.describe(include = \"object\").T)\n",
    "    f = (\"Las primeras filas son: \", df.head())\n",
    "    \n",
    "    print(a, \"\\n\", b, \"\\n\", c, \"\\n\", d, \"\\n\", e,  \"\\n\", f,)\n",
    "    \n",
    "propiedades(df_txt)"
   ]
  },
  {
   "cell_type": "code",
   "execution_count": 29,
   "metadata": {},
   "outputs": [
    {
     "data": {
      "text/plain": [
       "index           int64\n",
       "Q3             object\n",
       "Q4             object\n",
       "Q5             object\n",
       "Q6             object\n",
       "Q8             object\n",
       "Q11            object\n",
       "Q13            object\n",
       "Q15            object\n",
       "Q20            object\n",
       "Q21            object\n",
       "Q22            object\n",
       "Q23            object\n",
       "Q25            object\n",
       "Q26            object\n",
       "Q33            object\n",
       "Q35            object\n",
       "Q41            object\n",
       "Q7             object\n",
       "Q9             object\n",
       "Q12            object\n",
       "Q14            object\n",
       "Q16            object\n",
       "Q17            object\n",
       "Q24            object\n",
       "Q32            object\n",
       "Q34            object\n",
       "Q10_Part_1     object\n",
       "Q10_Part_2     object\n",
       "Q10_Part_3     object\n",
       "Q10_Part_4     object\n",
       "Q10_Part_5     object\n",
       "Q10_Part_6     object\n",
       "Q10_Part_7     object\n",
       "Q10_Part_8     object\n",
       "Q10_Part_9     object\n",
       "Q10_Part_10    object\n",
       "Q10_Part_11    object\n",
       "Q10_Part_12    object\n",
       "Q10_Part_13    object\n",
       "Q10_Part_14    object\n",
       "Q10_Part_15    object\n",
       "Q10_Part_16    object\n",
       "Q10_OTHER      object\n",
       "dtype: object"
      ]
     },
     "execution_count": 29,
     "metadata": {},
     "output_type": "execute_result"
    }
   ],
   "source": [
    "df_juntos = df_txt.merge(df_csv, how='inner', on='index')\n",
    "df_juntitos = df_juntos.merge(df_xml, how='inner', on='index')\n",
    "df_juntos.dtypes"
   ]
  },
  {
   "cell_type": "code",
   "execution_count": null,
   "metadata": {},
   "outputs": [
    {
     "data": {
      "text/plain": [
       "(25973, 44)"
      ]
     },
     "execution_count": 27,
     "metadata": {},
     "output_type": "execute_result"
    }
   ],
   "source": [
    "df_juntos.shape"
   ]
  },
  {
   "cell_type": "code",
   "execution_count": null,
   "metadata": {},
   "outputs": [],
   "source": [
    "df_juntitos.to_csv(\"csv_junto_sucio.csv\")"
   ]
  }
 ],
 "metadata": {
  "interpreter": {
   "hash": "a7767d930544d914483bb7fc45a359b90234f0fc056fbb3956e60e9a90a88fdd"
  },
  "kernelspec": {
   "display_name": "Python 3.9.7 ('base')",
   "language": "python",
   "name": "python3"
  },
  "language_info": {
   "codemirror_mode": {
    "name": "ipython",
    "version": 3
   },
   "file_extension": ".py",
   "mimetype": "text/x-python",
   "name": "python",
   "nbconvert_exporter": "python",
   "pygments_lexer": "ipython3",
   "version": "3.9.7"
  },
  "orig_nbformat": 4
 },
 "nbformat": 4,
 "nbformat_minor": 2
}
