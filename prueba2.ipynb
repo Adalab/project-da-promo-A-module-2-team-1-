{
 "cells": [
  {
   "cell_type": "code",
   "execution_count": null,
   "metadata": {},
   "outputs": [],
   "source": []
  },
  {
   "cell_type": "markdown",
   "metadata": {},
   "source": [
    "# USER STORY 1 \n",
    "\n",
    "Unir los diferentes ficheros de entrada en uno que agregue toda la información.\n",
    "Unir los diferentes ficheros de entrada en uno que agregue toda la información y guardarlo en csv."
   ]
  }
 ],
 "metadata": {
  "language_info": {
   "name": "python"
  },
  "orig_nbformat": 4
 },
 "nbformat": 4,
 "nbformat_minor": 2
}
