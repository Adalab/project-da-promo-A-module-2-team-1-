{
 "cells": [
  {
   "cell_type": "code",
   "execution_count": 2,
   "metadata": {},
   "outputs": [],
   "source": [
    "import pandas as pd\n",
    "import numpy as np\n",
    "import seaborn as sns\n",
    "import matplotlib.pyplot as plt\n",
    "from sklearn.preprocessing import OneHotEncoder"
   ]
  },
  {
   "cell_type": "markdown",
   "metadata": {},
   "source": [
    "    COLUMNAS\n",
    "    -'years_ml'\n",
    "    -'ml_frameworks'\n",
    "    -'ml_algorithms'"
   ]
  },
  {
   "cell_type": "code",
   "execution_count": 5,
   "metadata": {},
   "outputs": [
    {
     "data": {
      "text/html": [
       "<div>\n",
       "<style scoped>\n",
       "    .dataframe tbody tr th:only-of-type {\n",
       "        vertical-align: middle;\n",
       "    }\n",
       "\n",
       "    .dataframe tbody tr th {\n",
       "        vertical-align: top;\n",
       "    }\n",
       "\n",
       "    .dataframe thead th {\n",
       "        text-align: right;\n",
       "    }\n",
       "</style>\n",
       "<table border=\"1\" class=\"dataframe\">\n",
       "  <thead>\n",
       "    <tr style=\"text-align: right;\">\n",
       "      <th></th>\n",
       "      <th>survey_number</th>\n",
       "      <th>age</th>\n",
       "      <th>gender</th>\n",
       "      <th>country</th>\n",
       "      <th>education_level</th>\n",
       "      <th>programming_experience</th>\n",
       "      <th>programming_language</th>\n",
       "      <th>primary_bd_tool</th>\n",
       "      <th>years_ml</th>\n",
       "      <th>ml_frameworks</th>\n",
       "      <th>ml_algorithms</th>\n",
       "      <th>role</th>\n",
       "      <th>salary</th>\n",
       "      <th>industry</th>\n",
       "      <th>company size</th>\n",
       "      <th>people_in_data</th>\n",
       "      <th>gender_2</th>\n",
       "    </tr>\n",
       "  </thead>\n",
       "  <tbody>\n",
       "    <tr>\n",
       "      <th>0</th>\n",
       "      <td>910</td>\n",
       "      <td>50-54</td>\n",
       "      <td>Man</td>\n",
       "      <td>India</td>\n",
       "      <td>Bachelor’s degree</td>\n",
       "      <td>5-10 years</td>\n",
       "      <td>Python, R</td>\n",
       "      <td>Local development environments (RStudio, Jupyt...</td>\n",
       "      <td>5-10 years</td>\n",
       "      <td>Scikit-learn , TensorFlow ,Caret</td>\n",
       "      <td>Linear or Logistic Regression, Decision Trees ...</td>\n",
       "      <td>Other</td>\n",
       "      <td>25,000-29,999</td>\n",
       "      <td>Manufacturing/Fabrication</td>\n",
       "      <td>NaN</td>\n",
       "      <td>3-4</td>\n",
       "      <td>Man</td>\n",
       "    </tr>\n",
       "    <tr>\n",
       "      <th>1</th>\n",
       "      <td>784</td>\n",
       "      <td>50-54</td>\n",
       "      <td>Man</td>\n",
       "      <td>Indonesia</td>\n",
       "      <td>Master’s degree</td>\n",
       "      <td>20+ years</td>\n",
       "      <td>SQL, C, C++, Java</td>\n",
       "      <td>Advanced statistical software (SPSS, SAS, etc.)</td>\n",
       "      <td>&lt; 1 year</td>\n",
       "      <td>Scikit-learn</td>\n",
       "      <td>Linear or Logistic Regression, Decision Trees ...</td>\n",
       "      <td>Program/Project Manager</td>\n",
       "      <td>60,000-69,999</td>\n",
       "      <td>Manufacturing/Fabrication</td>\n",
       "      <td>NaN</td>\n",
       "      <td>1-2</td>\n",
       "      <td>Man</td>\n",
       "    </tr>\n",
       "  </tbody>\n",
       "</table>\n",
       "</div>"
      ],
      "text/plain": [
       "   survey_number    age gender    country    education_level  \\\n",
       "0            910  50-54    Man      India  Bachelor’s degree   \n",
       "1            784  50-54    Man  Indonesia    Master’s degree   \n",
       "\n",
       "  programming_experience programming_language  \\\n",
       "0             5-10 years            Python, R   \n",
       "1              20+ years    SQL, C, C++, Java   \n",
       "\n",
       "                                     primary_bd_tool    years_ml  \\\n",
       "0  Local development environments (RStudio, Jupyt...  5-10 years   \n",
       "1    Advanced statistical software (SPSS, SAS, etc.)    < 1 year   \n",
       "\n",
       "                       ml_frameworks  \\\n",
       "0  Scikit-learn , TensorFlow ,Caret    \n",
       "1                      Scikit-learn    \n",
       "\n",
       "                                       ml_algorithms                     role  \\\n",
       "0  Linear or Logistic Regression, Decision Trees ...                    Other   \n",
       "1  Linear or Logistic Regression, Decision Trees ...  Program/Project Manager   \n",
       "\n",
       "          salary                   industry  company size people_in_data  \\\n",
       "0  25,000-29,999  Manufacturing/Fabrication           NaN            3-4   \n",
       "1  60,000-69,999  Manufacturing/Fabrication           NaN            1-2   \n",
       "\n",
       "  gender_2  \n",
       "0      Man  \n",
       "1      Man  "
      ]
     },
     "execution_count": 5,
     "metadata": {},
     "output_type": "execute_result"
    }
   ],
   "source": [
    "df = pd.read_csv(\"Proyecto_2/project-da-promo-A-module-2-team-1-/Limpieza de documentos/preparadito.csv\", index_col= 0)\n",
    "df.head(2)"
   ]
  },
  {
   "cell_type": "code",
   "execution_count": 16,
   "metadata": {},
   "outputs": [],
   "source": [
    "df_2 =df[\"years_ml\"]\n",
    "df_3 =df[\"ml_frameworks\"]\n",
    "df_4 =df[\"ml_algorithms\"]"
   ]
  },
  {
   "cell_type": "code",
   "execution_count": 10,
   "metadata": {},
   "outputs": [
    {
     "data": {
      "text/plain": [
       "count        23754\n",
       "unique           9\n",
       "top       < 1 year\n",
       "freq          9163\n",
       "Name: years_ml, dtype: object"
      ]
     },
     "execution_count": 10,
     "metadata": {},
     "output_type": "execute_result"
    }
   ],
   "source": [
    "df_2.describe().T"
   ]
  },
  {
   "cell_type": "code",
   "execution_count": 11,
   "metadata": {},
   "outputs": [
    {
     "data": {
      "text/plain": [
       "2219"
      ]
     },
     "execution_count": 11,
     "metadata": {},
     "output_type": "execute_result"
    }
   ],
   "source": [
    "df_2.isnull().sum()"
   ]
  },
  {
   "cell_type": "code",
   "execution_count": 17,
   "metadata": {},
   "outputs": [
    {
     "data": {
      "text/plain": [
       "count             19624\n",
       "unique             1401\n",
       "top       Scikit-learn \n",
       "freq               2688\n",
       "Name: ml_frameworks, dtype: object"
      ]
     },
     "execution_count": 17,
     "metadata": {},
     "output_type": "execute_result"
    }
   ],
   "source": [
    "df_3.describe().T"
   ]
  },
  {
   "cell_type": "code",
   "execution_count": 18,
   "metadata": {},
   "outputs": [
    {
     "data": {
      "text/plain": [
       "6349"
      ]
     },
     "execution_count": 18,
     "metadata": {},
     "output_type": "execute_result"
    }
   ],
   "source": [
    "df_3.isnull().sum()"
   ]
  },
  {
   "cell_type": "code",
   "execution_count": 19,
   "metadata": {},
   "outputs": [
    {
     "data": {
      "text/plain": [
       "count                                                 19315\n",
       "unique                                                  756\n",
       "top       Linear or Logistic Regression, Decision Trees ...\n",
       "freq                                                   1807\n",
       "Name: ml_algorithms, dtype: object"
      ]
     },
     "execution_count": 19,
     "metadata": {},
     "output_type": "execute_result"
    }
   ],
   "source": [
    "df_4.describe().T"
   ]
  },
  {
   "cell_type": "code",
   "execution_count": 20,
   "metadata": {},
   "outputs": [
    {
     "data": {
      "text/plain": [
       "6658"
      ]
     },
     "execution_count": 20,
     "metadata": {},
     "output_type": "execute_result"
    }
   ],
   "source": [
    "df_4.isnull().sum()"
   ]
  }
 ],
 "metadata": {
  "interpreter": {
   "hash": "a7767d930544d914483bb7fc45a359b90234f0fc056fbb3956e60e9a90a88fdd"
  },
  "kernelspec": {
   "display_name": "Python 3.9.7 ('base')",
   "language": "python",
   "name": "python3"
  },
  "language_info": {
   "codemirror_mode": {
    "name": "ipython",
    "version": 3
   },
   "file_extension": ".py",
   "mimetype": "text/x-python",
   "name": "python",
   "nbconvert_exporter": "python",
   "pygments_lexer": "ipython3",
   "version": "3.9.7"
  },
  "orig_nbformat": 4
 },
 "nbformat": 4,
 "nbformat_minor": 2
}
